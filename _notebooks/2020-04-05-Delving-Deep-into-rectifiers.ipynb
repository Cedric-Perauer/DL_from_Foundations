{
 "cells": [
  {
   "cell_type": "markdown",
   "metadata": {},
   "source": [
    "# Delving Deep into Rectifiers a summary\n",
    "> Using initialization and a LReLu inspired activation function to reach superhuman performance on ImageNet.\n",
    "\n",
    "- toc: true \n",
    "- badges: true\n",
    "- comments: true\n",
    "- categories: [jupyter]\n",
    "- image: images/He.png"
   ]
  },
  {
   "cell_type": "markdown",
   "metadata": {},
   "source": [
    "## Delving Deep into Rectifiers:\n",
    "Surpassing Human-Level Performance on ImageNet Classification a summary of the paper\n"
   ]
  },
  {
   "cell_type": "markdown",
   "metadata": {},
   "source": [
    "### What did the authors want to achieve ? \n",
    "+ Achieve above human level performance on vision (ImageNet) \n",
    "+ Train deep Networks with rectifier functions (ReLu,LReLu,PReLU) effectively \n",
    "+ Improve accuracy by enabling the training of deeper and larger networks \n",
    "\n"
   ]
  },
  {
   "cell_type": "markdown",
   "metadata": {},
   "source": [
    "### Key elements\n",
    "+ The key elements are a different kind of rectifier activation function called PReLu, which is very similar to LReLu as well as a different initalization technique called Kaiming/He init which improves upon the fact that Xavier initalization does not consider the non-linearities of ReLu kind functions          \n",
    "\n",
    "#### PReLU\n",
    "<img src=\"images/prelu.png\" alt=\"drawing\" width=\"400\"/> \n",
    "+ As we can see PReLu looks a lot like LReLu, having a negative `slope a` when x < 0, however this slope is not fixed in the beginning but learned by introducing a few hyperparameters \n",
    "+ Due to the number of extra hyperparams being equal to the number of channels, no additional risk of overfitting is introduced \n",
    "+ PReLu seems to keep more information in early layers and becomes more discriminative in deeper stages due to being able to model more non-linear functions \n",
    "\n",
    "#### Kaiming Initalization\n",
    "+ The problem with Xavier init, is that it does not take into account the non-linearities of rectifier funcions, therefore a new init technique is derived by taking these activation functions into account, for the forward pass the following is derived : \n",
    "\n",
    " - Based on the response of a conv layer, which is computed by : \n",
    "   $y_{l} =  W_{l}*x_{l}+b_{l}$ ,with $x$ being a $ n = k^{2}*c$ vector ($k*k$ co-located pixels, in $c$ channels) and $W_{l}$ being a $d$ x $n$ matrix, where $d$ is the num of filters \n",
    " \n",
    " - The elements in $W_{l}$ and $x_{l}$ are assumed to be independent from each other and share the same distribution, $W_{l}$ and $x_{l}$ are also independet from each other it follows : \n",
    " $Var[y_{l}] = n_{l} *Var[w_{l}*x_{l}] $\n",
    " \n",
    " - We let $w_{l}$ have zero mean, the variance of the product of independent\n",
    "variables gives us :            \n",
    "   $Var[y_{l}] = n_{l} *Var[w_{l}]*Var[x_{l}] $\n",
    "   , which leads to \n",
    "   $Var[y_{l}] = n_{l} *Var[w_{l}]*E[x_{l}^{2}] $\n",
    " \n",
    " - $E[x_{l}^{2}]$ is the expectation of the square of $x_{l}$, we notice that $E[x_{l}^{2}]\\neq Var[x_{l}]$ unless $x_{l}$ has 0 mean (Random variability) , which is not the case for ReLu : $x_{l} = max(0,y_{l-1})$\n",
    " \n",
    " - if $w_{l-1}$ is symmetric around 0 and $b_{l-1}=0$, it follows that $y_{l-1}$ is a symmetric distribution around zero. This means that $E[x_{l}^{2}]=0.5 * Var[y_{l-1}]$ when the activation is ReLu thus : \n",
    " $Var[y_{l}] = 0.5 * n_{l} *Var[w_{l}]*Var[y_{l-1}] $\n",
    " \n",
    " - when we have L layers we have : \n",
    " \n",
    "   $Var[y_{l}] = Var[y_{1}] * \\prod^{L}_{l=2} (0.5 * n_{l} *Var[w_{l}])$\n",
    "   \n",
    " - the initalization should not magnify the magnitude of the inputs signals, this is achieved by applying a proper scalar : \n",
    "  \n",
    "  $0.5 * n_{l} *Var[w_{l}] = 1, \\forall {l}$ (ReLu case)\n",
    "  \n",
    "  $0.5 *(1+a^{2}) * n_{l} *Var[w_{l}] = 1, \\forall {l}$ (PReLu case)\n",
    "\n",
    "=> this distribution is a 0-mean Gaussian with a std of $\\sqrt{2/n_{l}}$, which is also adopted in the first layer \n",
    "\n",
    "- For the backward pass the same function applies, with $n_{l}=k_{l}^{2}*d_{l-1} = k_{l}^{2}*c_{l}$ replaced by $\\tilde{n}=k_{l}^{2}*d_{l}$ : \n",
    "\n",
    "    $0.5 * \\tilde{n} *Var[w_{l}] = 1, \\forall {l}$ (ReLu)\n",
    "    \n",
    "    $0.5 *(1+a^{2}) * \\tilde{n} *Var[w_{l}] = 1, \\forall {l}$ (PReLu case)\n",
    "    \n",
    "   \n",
    "    \n",
    "\"This means that if the initialization properly scales\n",
    "the backward signal, then this is also the case for the forward signal; and vice versa. For all models in this paper,\n",
    "both forms can make them converge.\"\n",
    "\n",
    "#### Implementation Details\n",
    "+ The standard hyperparms are as follows : \n",
    "   - Weight decay is 0.0005\n",
    "   - Momentum is 0.9.\n",
    "   - Dropout (50%) is used in the first two fc layers \n",
    "   - Minibatch size is fixed as 128 \n",
    "   - The learning rates are 1e-2, 1e-3,and 1e-4, and is switched when the error plateaus\n",
    "   - Number of epochs : 80 \n",
    "   - simple variant of Krizhevsky’s method is used to run Multi-GPUs, the GPUs are synched before the first fc layer to run backprop/forward pass on one of the GPUs (3.8x\n",
    "speedup using 4 GPUs, and a 6.0x speedup using 8 GPUs)\n",
    "+ The PReLU hyperparameters (slopes) are trained with Backprop, the authors proposed the following : \n",
    "  + no weight decay is used\n",
    "  + the `slopes ai` are initialized as 0.25 \n",
    "  + the `slopes ai`are not constrained, even without regularization `ai`is rarely larger than 1"
   ]
  },
  {
   "cell_type": "markdown",
   "metadata": {},
   "source": [
    "### Results and Conclusion\n",
    "<img src=\"images/prelu_results.png\" alt=\"drawing\" width=\"400\"/>  \n",
    "\n",
    "- PRelu reduces top-1 error by 1.05% and top-5 error by 0.23% (@scale 384), when the large model A is used \n",
    "<img src=\"images/He.png\" alt=\"drawing\" width=\"400\"/>  \n",
    "- Kaiming init allows training deep rectifier networks and converges, this allows them to reduce the error to below human level `4.94% compared to 5.1%`, you should check out how the human benchmark was established by checking out [Andrej Karpathy's blog on this](http://karpathy.github.io/2014/09/02/what-i-learned-from-competing-against-a-convnet-on-imagenet/) \n",
    "- It has to be noted however that this is largely due to the fine grained details that can be learned by NNs, if a prediction is incorrect humans still mostly guess the right category (for example vehicle) while NNs can be completely off. So superhuman performance is only achieved in detecting fine grained classes. This can be confirmed when training on the Pascal VOC dataset.  "
   ]
  }
 ],
 "metadata": {
  "kernelspec": {
   "display_name": "Python 2",
   "language": "python",
   "name": "python2"
  },
  "language_info": {
   "codemirror_mode": {
    "name": "ipython",
    "version": 3
   },
   "file_extension": ".py",
   "mimetype": "text/x-python",
   "name": "python",
   "nbconvert_exporter": "python",
   "pygments_lexer": "ipython3",
   "version": "3.7.6"
  }
 },
 "nbformat": 4,
 "nbformat_minor": 2
}

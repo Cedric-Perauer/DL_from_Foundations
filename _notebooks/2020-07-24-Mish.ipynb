{
 "cells": [
  {
   "cell_type": "markdown",
   "metadata": {},
   "source": [
    "# Mish Paper Summary\n",
    "> A Self Regularized Non-Monotonic Neural Activation Function by Diganta Misra \n",
    "\n",
    "- toc: true \n",
    "- badges: true\n",
    "- comments: true\n",
    "- categories: [jupyter]\n",
    "- image: images/Mish.png"
   ]
  },
  {
   "cell_type": "markdown",
   "metadata": {},
   "source": [
    "[Paper Link](https://arxiv.org/pdf/1908.08681.pdf)\n",
    "## What did the authors want to achieve ?   \n",
    "Propose a new activation function which replaces upon the known standards such as ReLU and Swish. The function proposed is called Mish activation and is defined by : $f(x) = x * tanh(softplus(x))$\n",
    "Recall that Sofplus is defined as $f(x) = ln(1+e^{x})$\n",
    "The authors show that it can be more effective than ReLU and Swish for Computer Vision tasks. \n",
    "![images](images/Mish.png) \n",
    "\n",
    "\n"
   ]
  },
  {
   "cell_type": "markdown",
   "metadata": {},
   "source": [
    "## Methods\n",
    "\n",
    "### Mish Activation\n",
    "As explained in the intro, Mish is a novel activation function. It is inspired by ReLU and Swish and has a bounded bottom value of $~ -0.31$           \n",
    "The derivative is defined as  :\n",
    "$f^{'}(x) = \\frac{e^{x} * w}{\\delta^{2}}$        \n",
    "With $w=4*(x+1) + 4e^{2x} + e^{3x}  +e^{x} * (4x+6)$           \n",
    "and $\\delta = 2e^{2x} + e^{2x} + 2$                \n",
    "It also has a self gating property, which means that it simply takes a scalar as input and allows it to easily replace ReLU in existing networks. A plot including Mish and Swish derivatives is shown below : \n",
    "![images](images/Mish_derivative.png) \n",
    "### Code\n",
    "We can implement Mish in Pytorch the following way :\n",
    "```python\n",
    "class MishImplementation(torch.autograd.Function):\n",
    "    @staticmethod\n",
    "    def forward(ctx,x):\n",
    "        ctx.save_for_backward(x)\n",
    "        return x.mul(torch.tanh(F.softplus(x)) # x * tanh(ln(1 + exp(x)))\n",
    "   @staticmethod\n",
    "   def backward(ctx,grad_output):\n",
    "        x = ctx.saved_tensors[0]\n",
    "        sx = torch.sigmoid(x)\n",
    "        fx = F.sofplus(x).tanh()\n",
    "        return grad_output * (fx + x * sx * (1 - fx * fx))\n",
    "```\n",
    "\n",
    "Credits go to the author of the paper and the implementation above that is used in YOLOv3 by Ultralytics. \n",
    "\n",
    "\n",
    "### Explanation \n",
    "![image](images/Mish_prop.png) \n",
    "The authors explain why Mish does improve upon current results in this section and emphasize the advantageous properties of Mish.\n",
    "\n",
    "Like Relu and Swish, Mish is unbounded above, which prevents saturation and therefore vanishing gradients. The about -0.31 bound below adds strong regularization  properties. Not killing gradients when x is below 0 improves gradient flow and therefore improves expressivity. Famously ReLU is not differentiable at 0, the smoothness  of Mish makes it continuously differentiable. The smoother function allow for smoother loss functions and therefore better optimization. The authors summarize these properties and the table above. \n",
    "\n",
    "The authors generally recommend to use a higher amount of epochs with Mish activation. This obviously introduces some overhead during training. \n",
    "\n"
   ]
  },
  {
   "cell_type": "markdown",
   "metadata": {},
   "source": [
    "## Results\n",
    "\n",
    "### Hyperparameter study\n",
    "The author studies the difference between ReLU, Swish and Mish in Section 3.1 by considering fully connected nets with different layer amounts batch norm, dropout and no residual connections, plots are shown for every category. The most important takeaway is that Mish is better than current SOTA for optimizing larger and wider networks. It has to be criticized that the author is not using residual connections here, as this might increase the advantage of Mish even more than it would in a real setting with a skip connection network.\n",
    "They also show that larger batch sizes benefit from Mish, it is also more stable for different initalizations and slightly more robust to noise.  \n",
    "\n",
    "The results are replicated in experiments with a 6-layer CNN. Here Mish outperforms Swish with 75.6% to 71.7% on CIFAR-100. Swish did not seem to learn for the first 10 epochs here due to dead gradients.\n",
    "\n",
    "The author also shows that Mish outperforms Swish when using Cosine Annealing and outperforms Swish by about 9% when using Mixup with $\\alpha=0.2$ to compare the two methods.  \n",
    "Statistical comparison shows that Mish has highest mean test accuracy and lowest mean standard deviation when compared to ReLU and Swish.\n",
    "\n",
    "\n",
    "It is also mentioned that Mish is slightly less efficient on GPU than the other two mentioned activation functions. \n",
    "\n",
    "### Different Architectures with Mish \n",
    "The author compares Mish by training with different networks and soley replacing ReLU/Swish with Mish, while leaving the hyperparameters unchanged. The superior performance of Mish during CIFAR100 can be seen in the table below : \n",
    "![image](images/Mish_results.png) "
   ]
  }
 ],
 "metadata": {
  "kernelspec": {
   "display_name": "Python 3",
   "language": "python",
   "name": "python3"
  },
  "language_info": {
   "codemirror_mode": {
    "name": "ipython",
    "version": 3
   },
   "file_extension": ".py",
   "mimetype": "text/x-python",
   "name": "python",
   "nbconvert_exporter": "python",
   "pygments_lexer": "ipython3",
   "version": "3.6.10"
  }
 },
 "nbformat": 4,
 "nbformat_minor": 4
}

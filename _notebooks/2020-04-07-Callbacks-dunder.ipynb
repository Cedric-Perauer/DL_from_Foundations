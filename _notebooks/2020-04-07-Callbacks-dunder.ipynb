{
 "cells": [
  {
   "cell_type": "markdown",
   "metadata": {},
   "source": [
    "# DL from the Foundations Callbacks and __dunder__\n",
    "> Callbacks and __dunder__ Deep Dive (Lesson 3 Part 1)\n",
    "\n",
    "- toc: true \n",
    "- badges: true\n",
    "- comments: true\n",
    "- categories: [jupyter]\n",
    "- image: images/lesson3.png"
   ]
  },
  {
   "cell_type": "markdown",
   "metadata": {},
   "source": [
    "## Deep Learning from the Foundations Lesson 3 Part1"
   ]
  },
  {
   "cell_type": "markdown",
   "metadata": {},
   "source": [
    "![images](images/lesson3.png)"
   ]
  },
  {
   "cell_type": "markdown",
   "metadata": {},
   "source": [
    "In the beginning we recap some lesson 2 concepts (Callbacks, Variants, under special methods) :"
   ]
  },
  {
   "cell_type": "markdown",
   "metadata": {},
   "source": [
    "Just our imports : "
   ]
  },
  {
   "cell_type": "code",
<<<<<<< HEAD
   "execution_count": 1,
=======
   "execution_count": 33,
>>>>>>> b0247cf248489cd535847be012573b073d10acce
   "metadata": {},
   "outputs": [
    {
     "name": "stdout",
     "output_type": "stream",
     "text": [
      "The autoreload extension is already loaded. To reload it, use:\n",
      "  %reload_ext autoreload\n"
     ]
    }
   ],
   "source": [
    "#collapse\n",
    "%load_ext autoreload\n",
    "%autoreload 2\n",
    "\n",
    "%matplotlib inline"
   ]
  },
  {
   "cell_type": "code",
<<<<<<< HEAD
   "execution_count": 2,
=======
   "execution_count": 34,
>>>>>>> b0247cf248489cd535847be012573b073d10acce
   "metadata": {},
   "outputs": [],
   "source": [
    "#collapse\n",
    "import torch\n",
    "import matplotlib.pyplot as plt"
   ]
  },
  {
   "cell_type": "markdown",
   "metadata": {},
   "source": [
    "[Jump_to opening comments and overview of lesson 10](https://course.fast.ai/videos/?lesson=10&t=108)"
   ]
  },
  {
   "cell_type": "markdown",
   "metadata": {},
   "source": [
    "## Callbacks"
   ]
  },
  {
   "cell_type": "markdown",
   "metadata": {},
   "source": [
    "### Callbacks as GUI events"
   ]
  },
  {
   "cell_type": "markdown",
   "metadata": {},
   "source": [
    "[Jump_to lesson 10 video](https://course.fast.ai/videos/?lesson=10&t=432)   \n",
    "Imports : "
   ]
  },
  {
   "cell_type": "code",
<<<<<<< HEAD
   "execution_count": 3,
=======
   "execution_count": 35,
>>>>>>> b0247cf248489cd535847be012573b073d10acce
   "metadata": {},
   "outputs": [],
   "source": [
    "#collapse\n",
    "import ipywidgets as widgets"
   ]
  },
  {
   "cell_type": "code",
<<<<<<< HEAD
   "execution_count": 4,
=======
   "execution_count": 36,
>>>>>>> b0247cf248489cd535847be012573b073d10acce
   "metadata": {},
   "outputs": [],
   "source": [
    "#collapse_show\n",
    "def f(o): print('hi')"
   ]
  },
  {
   "cell_type": "markdown",
   "metadata": {},
   "source": [
    "From the [ipywidget docs](https://ipywidgets.readthedocs.io/en/stable/examples/Widget%20Events.html):\n",
    "\n",
    "- *the button widget is used to handle mouse clicks. The on_click method of the Button can be used to register function to be called when the button is clicked*"
   ]
  },
  {
   "cell_type": "code",
<<<<<<< HEAD
   "execution_count": 5,
=======
   "execution_count": 37,
>>>>>>> b0247cf248489cd535847be012573b073d10acce
   "metadata": {},
   "outputs": [],
   "source": [
    "#collapse_show\n",
    "w = widgets.Button(description='Click me')"
   ]
  },
  {
   "cell_type": "code",
<<<<<<< HEAD
   "execution_count": 6,
=======
   "execution_count": 38,
>>>>>>> b0247cf248489cd535847be012573b073d10acce
   "metadata": {},
   "outputs": [
    {
     "data": {
      "application/vnd.jupyter.widget-view+json": {
<<<<<<< HEAD
       "model_id": "fc0fdaef584b4bb89146db7a4a26ec6b",
=======
       "model_id": "8e1177707710487baf8727e46e52f482",
>>>>>>> b0247cf248489cd535847be012573b073d10acce
       "version_major": 2,
       "version_minor": 0
      },
      "text/plain": [
       "Button(description='Click me', style=ButtonStyle())"
      ]
     },
     "metadata": {},
     "output_type": "display_data"
    }
   ],
   "source": [
    "#collapse\n",
    "w"
   ]
  },
  {
   "cell_type": "markdown",
   "metadata": {},
   "source": [
    "Now that we created this button we can pass it a function that will execute when pushing the button. It's a callback using a function pointer !"
   ]
  },
  {
   "cell_type": "code",
<<<<<<< HEAD
   "execution_count": 7,
=======
   "execution_count": 39,
>>>>>>> b0247cf248489cd535847be012573b073d10acce
   "metadata": {},
   "outputs": [],
   "source": [
    "#collapse_show\n",
    "w.on_click(f)"
   ]
  },
  {
   "cell_type": "markdown",
   "metadata": {},
   "source": [
    "*NB: When callbacks are used in this way they are often called \"events\".*\n",
    "\n",
    "Did you know what you can create interactive apps in Jupyter with these widgets? Here's an example from [plotly](https://plot.ly/python/widget-app/):\n",
    "\n",
    "![](https://cloud.githubusercontent.com/assets/12302455/16637308/4e476280-43ac-11e6-9fd3-ada2c9506ee1.gif)"
   ]
  },
  {
   "cell_type": "markdown",
   "metadata": {},
   "source": [
    "### Creating your own callback"
   ]
  },
  {
   "cell_type": "markdown",
   "metadata": {},
   "source": [
    "[Jump_to lesson 10 video](https://course.fast.ai/videos/?lesson=10&t=680)"
   ]
  },
  {
   "cell_type": "code",
<<<<<<< HEAD
   "execution_count": 8,
=======
   "execution_count": 40,
>>>>>>> b0247cf248489cd535847be012573b073d10acce
   "metadata": {},
   "outputs": [],
   "source": [
    "#collapse\n",
    "from time import sleep"
   ]
  },
  {
   "cell_type": "markdown",
   "metadata": {},
   "source": [
    " We create a dummy calculation function to show this concept :    "
   ]
  },
  {
   "cell_type": "code",
<<<<<<< HEAD
   "execution_count": 9,
=======
   "execution_count": 41,
>>>>>>> b0247cf248489cd535847be012573b073d10acce
   "metadata": {},
   "outputs": [],
   "source": [
    "#collapse_show\n",
    "def slow_calculation(cb=None):\n",
    "    res = 0\n",
    "    for i in range(5):\n",
    "        res += i*i\n",
    "        sleep(1)\n",
    "        if cb: cb(i)\n",
    "    return res"
   ]
  },
  {
   "cell_type": "code",
<<<<<<< HEAD
   "execution_count": 10,
=======
   "execution_count": 42,
>>>>>>> b0247cf248489cd535847be012573b073d10acce
   "metadata": {},
   "outputs": [],
   "source": [
    "#collapse_show\n",
    "def show_progress(epoch):\n",
    "    print(f\"Awesome! We've finished epoch {epoch}!\")"
   ]
  },
  {
   "cell_type": "markdown",
   "metadata": {},
   "source": [
    "We can now use this show_progress fct to use it as a callback !"
   ]
  },
  {
   "cell_type": "code",
<<<<<<< HEAD
   "execution_count": 11,
=======
   "execution_count": 43,
>>>>>>> b0247cf248489cd535847be012573b073d10acce
   "metadata": {},
   "outputs": [
    {
     "name": "stdout",
     "output_type": "stream",
     "text": [
      "Awesome! We've finished epoch 0!\n",
      "Awesome! We've finished epoch 1!\n",
      "Awesome! We've finished epoch 2!\n",
      "Awesome! We've finished epoch 3!\n",
      "Awesome! We've finished epoch 4!\n"
     ]
    },
    {
     "data": {
      "text/plain": [
       "30"
      ]
     },
<<<<<<< HEAD
     "execution_count": 11,
=======
     "execution_count": 43,
>>>>>>> b0247cf248489cd535847be012573b073d10acce
     "metadata": {},
     "output_type": "execute_result"
    }
   ],
   "source": [
    "#collapse_show\n",
    "slow_calculation(show_progress)"
   ]
  },
  {
   "cell_type": "markdown",
   "metadata": {},
   "source": [
    "### Lambdas and partials"
   ]
  },
  {
   "cell_type": "markdown",
   "metadata": {},
   "source": [
    "[Jump_to lesson 10 video](https://course.fast.ai/videos/?lesson=10&t=811)"
   ]
  },
  {
   "cell_type": "markdown",
   "metadata": {},
   "source": [
    "We can also define the function with Lambda and use it right away !"
   ]
  },
  {
   "cell_type": "code",
<<<<<<< HEAD
   "execution_count": 12,
=======
   "execution_count": 44,
>>>>>>> b0247cf248489cd535847be012573b073d10acce
   "metadata": {},
   "outputs": [
    {
     "name": "stdout",
     "output_type": "stream",
     "text": [
      "Awesome! We've finished epoch 0!\n",
      "Awesome! We've finished epoch 1!\n",
      "Awesome! We've finished epoch 2!\n",
      "Awesome! We've finished epoch 3!\n",
      "Awesome! We've finished epoch 4!\n"
     ]
    },
    {
     "data": {
      "text/plain": [
       "30"
      ]
     },
<<<<<<< HEAD
     "execution_count": 12,
=======
     "execution_count": 44,
>>>>>>> b0247cf248489cd535847be012573b073d10acce
     "metadata": {},
     "output_type": "execute_result"
    }
   ],
   "source": [
    "#collapse_show\n",
    "slow_calculation(lambda o: print(f\"Awesome! We've finished epoch {o}!\"))"
   ]
  },
  {
   "cell_type": "code",
<<<<<<< HEAD
   "execution_count": 13,
=======
   "execution_count": 45,
>>>>>>> b0247cf248489cd535847be012573b073d10acce
   "metadata": {},
   "outputs": [],
   "source": [
    "#collapse_show\n",
    "def show_progress(exclamation, epoch):\n",
    "    print(f\"{exclamation}! We've finished epoch {epoch}!\")"
   ]
  },
  {
   "cell_type": "markdown",
   "metadata": {},
   "source": [
    "The above function can not be passed, because it uses 2 arguments. So we use Lambda to fix this : "
   ]
  },
  {
   "cell_type": "code",
<<<<<<< HEAD
   "execution_count": 14,
=======
   "execution_count": 46,
>>>>>>> b0247cf248489cd535847be012573b073d10acce
   "metadata": {
    "scrolled": true
   },
   "outputs": [
    {
     "name": "stdout",
     "output_type": "stream",
     "text": [
      "OK I guess! We've finished epoch 0!\n",
      "OK I guess! We've finished epoch 1!\n",
      "OK I guess! We've finished epoch 2!\n",
      "OK I guess! We've finished epoch 3!\n",
      "OK I guess! We've finished epoch 4!\n"
     ]
    },
    {
     "data": {
      "text/plain": [
       "30"
      ]
     },
<<<<<<< HEAD
     "execution_count": 14,
=======
     "execution_count": 46,
>>>>>>> b0247cf248489cd535847be012573b073d10acce
     "metadata": {},
     "output_type": "execute_result"
    }
   ],
   "source": [
    "#collapse_show\n",
    "slow_calculation(lambda o: show_progress(\"OK I guess\", o))"
   ]
  },
  {
   "cell_type": "markdown",
   "metadata": {},
   "source": [
    "It's better to do it like this, where we pass the function with the exclamation : "
   ]
  },
  {
   "cell_type": "code",
<<<<<<< HEAD
   "execution_count": 15,
=======
   "execution_count": 47,
>>>>>>> b0247cf248489cd535847be012573b073d10acce
   "metadata": {},
   "outputs": [],
   "source": [
    "#collapse_show\n",
    "import torch.nn \n",
    "def make_show_progress(exclamation):\n",
    "    # Leading \"_\" is generally understood to be \"private\"\n",
    "    def _inner(epoch): print(f\"{exclamation}! We've finished epoch {epoch}!\")\n",
    "    return _inner"
   ]
  },
  {
   "cell_type": "code",
<<<<<<< HEAD
   "execution_count": 16,
=======
   "execution_count": 57,
>>>>>>> b0247cf248489cd535847be012573b073d10acce
   "metadata": {},
   "outputs": [],
   "source": [
    "def logsumexp(x):\n",
    "    m = x.max(-1)[0]\n",
    "    print('m shape : {}'.format(m.shape))\n",
    "    return m + (x-m[:,None]).exp().sum(-1).log()\n",
    "\n",
    "def log_softmax(x): \n",
    "    return x - x.logsumexp(-1,keepdim=True)"
   ]
  },
  {
   "cell_type": "code",
<<<<<<< HEAD
   "execution_count": 17,
   "metadata": {},
   "outputs": [
    {
     "data": {
      "text/plain": [
       "tensor([[-2.4076, -1.4076, -0.4076],\n",
       "        [-0.3182, -5.3182, -1.3182]])"
      ]
     },
     "execution_count": 17,
     "metadata": {},
     "output_type": "execute_result"
    }
   ],
   "source": [
    "sm_pred = [[0,1,2], [5,0,4]]\n",
    "sm_pred = torch.FloatTensor(sm_pred)\n",
    "log_softmax(sm_pred)"
=======
   "execution_count": 133,
   "metadata": {},
   "outputs": [
    {
     "name": "stdout",
     "output_type": "stream",
     "text": [
      "tensor([-1.3133, -0.3133])\n"
     ]
    }
   ],
   "source": [
    "sm_pred = [10,11]\n",
    "sm_pred = torch.FloatTensor(sm_pred)\n",
    "a = log_softmax(sm_pred)\n",
    "print(a)"
>>>>>>> b0247cf248489cd535847be012573b073d10acce
   ]
  },
  {
   "cell_type": "code",
<<<<<<< HEAD
   "execution_count": 18,
=======
   "execution_count": 134,
>>>>>>> b0247cf248489cd535847be012573b073d10acce
   "metadata": {},
   "outputs": [],
   "source": [
    "def progress(epochs,cb=None): \n",
<<<<<<< HEAD
    "    result = 0\n",
    "    for i in range(epochs): \n",
    "        result += i\n",
    "        if cb:\n",
    "            cb(i,result)\n",
    "    return result"
=======
    "    \n",
    "    for i in range(epochs): \n",
    "        res = torch.FloatTensor([i,i+1])\n",
    "        \n",
    "        if cb : \n",
    "            cb(i,res)\n",
    "    return res"
>>>>>>> b0247cf248489cd535847be012573b073d10acce
   ]
  },
  {
   "cell_type": "code",
<<<<<<< HEAD
   "execution_count": 19,
   "metadata": {},
   "outputs": [],
   "source": [
    "def show_random_loss(epoch,value): \n",
    "    print('call 0')\n",
    "    def _inner(epoch,value): \n",
    "        print('call 1')\n",
    "        print(f\"The loss in epoch {epoch} is : {value}\")\n",
=======
   "execution_count": 135,
   "metadata": {},
   "outputs": [],
   "source": [
    "def show_random_loss(): \n",
    "    def _inner(epoch,loss): \n",
    "        print(\"Loss\",loss)\n",
    "        a = log_softmax(loss)\n",
    "        print(\"log-soft\",a)\n",
    "        print(f\"The loss in epoch {epoch} is : {log_softmax(loss)}\")\n",
>>>>>>> b0247cf248489cd535847be012573b073d10acce
    "    return _inner"
   ]
  },
  {
   "cell_type": "code",
<<<<<<< HEAD
   "execution_count": 20,
=======
   "execution_count": 136,
>>>>>>> b0247cf248489cd535847be012573b073d10acce
   "metadata": {},
   "outputs": [
    {
     "name": "stdout",
     "output_type": "stream",
     "text": [
<<<<<<< HEAD
      "call 0\n",
      "call 1\n",
      "The loss in epoch 0 is : 0\n",
      "call 1\n",
      "The loss in epoch 1 is : 1\n",
      "call 1\n",
      "The loss in epoch 2 is : 3\n",
      "call 1\n",
      "The loss in epoch 3 is : 6\n",
      "call 1\n",
      "The loss in epoch 4 is : 10\n",
      "call 1\n",
      "The loss in epoch 5 is : 15\n",
      "call 1\n",
      "The loss in epoch 6 is : 21\n",
      "call 1\n",
      "The loss in epoch 7 is : 28\n",
      "call 1\n",
      "The loss in epoch 8 is : 36\n",
      "call 1\n",
      "The loss in epoch 9 is : 45\n"
=======
      "Loss tensor([0., 1.])\n",
      "log-soft tensor([-1.3133, -0.3133])\n",
      "The loss in epoch 0 is : tensor([-1.3133, -0.3133])\n",
      "Loss tensor([1., 2.])\n",
      "log-soft tensor([-1.3133, -0.3133])\n",
      "The loss in epoch 1 is : tensor([-1.3133, -0.3133])\n",
      "Loss tensor([2., 3.])\n",
      "log-soft tensor([-1.3133, -0.3133])\n",
      "The loss in epoch 2 is : tensor([-1.3133, -0.3133])\n",
      "Loss tensor([3., 4.])\n",
      "log-soft tensor([-1.3133, -0.3133])\n",
      "The loss in epoch 3 is : tensor([-1.3133, -0.3133])\n",
      "Loss tensor([4., 5.])\n",
      "log-soft tensor([-1.3133, -0.3133])\n",
      "The loss in epoch 4 is : tensor([-1.3133, -0.3133])\n",
      "Loss tensor([5., 6.])\n",
      "log-soft tensor([-1.3133, -0.3133])\n",
      "The loss in epoch 5 is : tensor([-1.3133, -0.3133])\n",
      "Loss tensor([6., 7.])\n",
      "log-soft tensor([-1.3133, -0.3133])\n",
      "The loss in epoch 6 is : tensor([-1.3133, -0.3133])\n",
      "Loss tensor([7., 8.])\n",
      "log-soft tensor([-1.3133, -0.3133])\n",
      "The loss in epoch 7 is : tensor([-1.3133, -0.3133])\n",
      "Loss tensor([8., 9.])\n",
      "log-soft tensor([-1.3133, -0.3133])\n",
      "The loss in epoch 8 is : tensor([-1.3133, -0.3133])\n",
      "Loss tensor([ 9., 10.])\n",
      "log-soft tensor([-1.3133, -0.3133])\n",
      "The loss in epoch 9 is : tensor([-1.3133, -0.3133])\n"
>>>>>>> b0247cf248489cd535847be012573b073d10acce
     ]
    },
    {
     "data": {
      "text/plain": [
<<<<<<< HEAD
       "45"
      ]
     },
     "execution_count": 20,
=======
       "tensor([ 9., 10.])"
      ]
     },
     "execution_count": 136,
>>>>>>> b0247cf248489cd535847be012573b073d10acce
     "metadata": {},
     "output_type": "execute_result"
    }
   ],
   "source": [
<<<<<<< HEAD
    "progress(10,show_random_loss(log_softmax(sm_pred),10))"
=======
    "progress(10,show_random_loss())"
>>>>>>> b0247cf248489cd535847be012573b073d10acce
   ]
  },
  {
   "cell_type": "code",
<<<<<<< HEAD
   "execution_count": 21,
=======
   "execution_count": 49,
   "metadata": {},
   "outputs": [
    {
     "name": "stdout",
     "output_type": "stream",
     "text": [
      "The loss in epoch 0 is : tensor([-435.,    0., -430.])\n",
      "The loss in epoch 1 is : tensor([-435.,    0., -430.])\n",
      "The loss in epoch 2 is : tensor([-435.,    0., -430.])\n",
      "The loss in epoch 3 is : tensor([-435.,    0., -430.])\n",
      "The loss in epoch 4 is : tensor([-435.,    0., -430.])\n"
     ]
    },
    {
     "data": {
      "text/plain": [
       "30"
      ]
     },
     "execution_count": 49,
     "metadata": {},
     "output_type": "execute_result"
    }
   ],
   "source": [
    "slow_calculation(show_random_loss(log_softmax(sm_pred)))"
   ]
  },
  {
   "cell_type": "code",
   "execution_count": 33,
>>>>>>> b0247cf248489cd535847be012573b073d10acce
   "metadata": {
    "scrolled": true
   },
   "outputs": [
    {
     "name": "stdout",
     "output_type": "stream",
     "text": [
      "Nice!! We've finished epoch 0!\n",
      "Nice!! We've finished epoch 1!\n",
      "Nice!! We've finished epoch 2!\n",
      "Nice!! We've finished epoch 3!\n",
      "Nice!! We've finished epoch 4!\n"
     ]
    },
    {
     "data": {
      "text/plain": [
       "30"
      ]
     },
     "execution_count": 21,
     "metadata": {},
     "output_type": "execute_result"
    }
   ],
   "source": [
    "#collapse_show\n",
    "slow_calculation(make_show_progress(\"Nice!\"))"
   ]
  },
  {
   "cell_type": "markdown",
   "metadata": {},
   "source": [
    "Obviously we can also do it like this with f2 containing the closure : "
   ]
  },
  {
   "cell_type": "code",
   "execution_count": 22,
   "metadata": {},
   "outputs": [],
   "source": [
    "#collapse_show\n",
    "f2 = make_show_progress(\"Terrific\")"
   ]
  },
  {
   "cell_type": "code",
   "execution_count": 23,
   "metadata": {},
   "outputs": [
    {
     "name": "stdout",
     "output_type": "stream",
     "text": [
      "Terrific! We've finished epoch 0!\n",
      "Terrific! We've finished epoch 1!\n",
      "Terrific! We've finished epoch 2!\n",
      "Terrific! We've finished epoch 3!\n",
      "Terrific! We've finished epoch 4!\n"
     ]
    },
    {
     "data": {
      "text/plain": [
       "30"
      ]
     },
     "execution_count": 23,
     "metadata": {},
     "output_type": "execute_result"
    }
   ],
   "source": [
    "#collapse\n",
    "slow_calculation(f2)"
   ]
  },
  {
   "cell_type": "code",
   "execution_count": 24,
   "metadata": {},
   "outputs": [
    {
     "name": "stdout",
     "output_type": "stream",
     "text": [
      "Amazing! We've finished epoch 0!\n",
      "Amazing! We've finished epoch 1!\n",
      "Amazing! We've finished epoch 2!\n",
      "Amazing! We've finished epoch 3!\n",
      "Amazing! We've finished epoch 4!\n"
     ]
    },
    {
     "data": {
      "text/plain": [
       "30"
      ]
     },
     "execution_count": 24,
     "metadata": {},
     "output_type": "execute_result"
    }
   ],
   "source": [
    "#collapse\n",
    "slow_calculation(make_show_progress(\"Amazing\"))"
   ]
  },
  {
   "cell_type": "code",
   "execution_count": 25,
   "metadata": {},
   "outputs": [],
   "source": [
    "#collapse\n",
    "from functools import partial"
   ]
  },
  {
   "cell_type": "markdown",
   "metadata": {},
   "source": [
    "We can also use partial to use the argmuent passed always as given. This means we can only pass the epoch argument now. We can also store it in f2 again like before.  "
   ]
  },
  {
   "cell_type": "code",
   "execution_count": 26,
   "metadata": {},
   "outputs": [
    {
     "name": "stdout",
     "output_type": "stream",
     "text": [
      "OK I guess! We've finished epoch 0!\n",
      "OK I guess! We've finished epoch 1!\n",
      "OK I guess! We've finished epoch 2!\n",
      "OK I guess! We've finished epoch 3!\n",
      "OK I guess! We've finished epoch 4!\n"
     ]
    },
    {
     "data": {
      "text/plain": [
       "30"
      ]
     },
     "execution_count": 26,
     "metadata": {},
     "output_type": "execute_result"
    }
   ],
   "source": [
    "#collapse_show\n",
    "slow_calculation(partial(show_progress, \"OK I guess\"))"
   ]
  },
  {
   "cell_type": "code",
   "execution_count": 27,
   "metadata": {},
   "outputs": [],
   "source": [
    "#collapse\n",
    "f2 = partial(show_progress, \"OK I guess\")"
   ]
  },
  {
   "cell_type": "markdown",
   "metadata": {},
   "source": [
    "### Callbacks as callable classes"
   ]
  },
  {
   "cell_type": "markdown",
   "metadata": {},
   "source": [
    "[Jump_to lesson 10 video](https://course.fast.ai/videos/?lesson=10&t=1122)"
   ]
  },
  {
   "cell_type": "markdown",
   "metadata": {},
   "source": [
    "Most of the time we want to use a class, so we store our exclamation and epoch args in class attributes : "
   ]
  },
  {
   "cell_type": "code",
   "execution_count": 28,
   "metadata": {},
   "outputs": [],
   "source": [
    "#collapse_show\n",
    "class ProgressShowingCallback():\n",
    "    def __init__(self, exclamation=\"Awesome\"): self.exclamation = exclamation\n",
    "    def __call__(self, epoch): print(f\"{self.exclamation}! We've finished epoch {epoch}!\")"
   ]
  },
  {
   "cell_type": "code",
   "execution_count": 29,
   "metadata": {},
   "outputs": [],
   "source": [
    "#collapse_show\n",
    "cb = ProgressShowingCallback(\"Just super\")"
   ]
  },
  {
   "cell_type": "markdown",
   "metadata": {},
   "source": [
    "__call__ is a magic name, will be called when you take an object and treat it like a function :"
   ]
  },
  {
   "cell_type": "code",
   "execution_count": 30,
   "metadata": {},
   "outputs": [
    {
     "name": "stdout",
     "output_type": "stream",
     "text": [
      "Just super! We've finished epoch hi!\n"
     ]
    }
   ],
   "source": [
    "#collapse_show\n",
    "cb(\"hi\")"
   ]
  },
  {
   "cell_type": "code",
   "execution_count": 31,
   "metadata": {},
   "outputs": [
    {
     "name": "stdout",
     "output_type": "stream",
     "text": [
      "Just super! We've finished epoch 0!\n",
      "Just super! We've finished epoch 1!\n",
      "Just super! We've finished epoch 2!\n",
      "Just super! We've finished epoch 3!\n",
      "Just super! We've finished epoch 4!\n"
     ]
    },
    {
     "data": {
      "text/plain": [
       "30"
      ]
     },
     "execution_count": 31,
     "metadata": {},
     "output_type": "execute_result"
    }
   ],
   "source": [
    "#collapse\n",
    "slow_calculation(cb)"
   ]
  },
  {
   "cell_type": "markdown",
   "metadata": {},
   "source": [
    "### Multiple callback funcs; `*args` and `**kwargs`"
   ]
  },
  {
   "cell_type": "markdown",
   "metadata": {},
   "source": [
    "[Jump_to lesson 10 video](https://course.fast.ai/videos/?lesson=10&t=1194)"
   ]
  },
  {
   "cell_type": "markdown",
   "metadata": {},
   "source": [
    "All the things that are positional arguments end up in a tuple (args) and all the keyword arguments (kwargs) are stored as a dict. This is used to wrap other classes/objects, **kwargs can be passed off to the subclasses for example. "
   ]
  },
  {
   "cell_type": "code",
   "execution_count": 32,
   "metadata": {},
   "outputs": [],
   "source": [
    "#collapse_show\n",
    "def f(*args, **kwargs): print(f\"args: {args}; kwargs: {kwargs}\")"
   ]
  },
  {
   "cell_type": "code",
   "execution_count": 33,
   "metadata": {},
   "outputs": [
    {
     "name": "stdout",
     "output_type": "stream",
     "text": [
      "args: (3, 'a'); kwargs: {'thing1': 'hello'}\n"
     ]
    }
   ],
   "source": [
    "#collapse_show\n",
    "f(3, 'a', thing1=\"hello\")"
   ]
  },
  {
   "cell_type": "markdown",
   "metadata": {},
   "source": [
    "NB: We've been guilty of over-using kwargs in fastai - it's very convenient for the developer, but is annoying for the end-user unless care is taken to ensure docs show all kwargs too. kwargs can also hide bugs (because it might not tell you about a typo in a param name). In [R](https://www.r-project.org/) there's a very similar issue (R uses `...` for the same thing), and matplotlib uses kwargs a lot too."
   ]
  },
  {
   "cell_type": "markdown",
   "metadata": {},
   "source": [
    "Let's go back to our function from the start, adding a callback before and after the calculation. This is a good use for args and kwargs, due to it's flexibility :"
   ]
  },
  {
   "cell_type": "code",
   "execution_count": 34,
   "metadata": {},
   "outputs": [],
   "source": [
    "#collapse_show\n",
    "def slow_calculation(cb=None):\n",
    "    res = 0\n",
    "    for i in range(5):\n",
    "        if cb: cb.before_calc(i)\n",
    "        res += i*i\n",
    "        sleep(1)\n",
    "        if cb: cb.after_calc(i, val=res)\n",
    "    return res"
   ]
  },
  {
   "cell_type": "code",
   "execution_count": 35,
   "metadata": {},
   "outputs": [],
   "source": [
    "#collapse_show\n",
    "class PrintStepCallback():\n",
    "    def __init__(self): pass\n",
    "    #when removing args and kwargs here it won't work\n",
    "    def before_calc(self, *args, **kwargs): print(f\"About to start\") \n",
    "    def after_calc (self, *args, **kwargs): print(f\"Done step\")"
   ]
  },
  {
   "cell_type": "code",
   "execution_count": 36,
   "metadata": {
    "scrolled": true
   },
   "outputs": [
    {
     "name": "stdout",
     "output_type": "stream",
     "text": [
      "About to start\n",
      "Done step\n",
      "About to start\n",
      "Done step\n",
      "About to start\n",
      "Done step\n",
      "About to start\n",
      "Done step\n",
      "About to start\n",
      "Done step\n"
     ]
    },
    {
     "data": {
      "text/plain": [
       "30"
      ]
     },
     "execution_count": 36,
     "metadata": {},
     "output_type": "execute_result"
    }
   ],
   "source": [
    "#collapse_show\n",
    "slow_calculation(PrintStepCallback())"
   ]
  },
  {
   "cell_type": "markdown",
   "metadata": {},
   "source": [
    "We can now use this with epoch and val to print our details : "
   ]
  },
  {
   "cell_type": "code",
   "execution_count": 37,
   "metadata": {},
   "outputs": [],
   "source": [
    "#collapse_show\n",
    "class PrintStatusCallback():\n",
    "    def __init__(self): pass\n",
    "    def before_calc(self, epoch, **kwargs): print(f\"About to start: {epoch}\")\n",
    "    def after_calc (self, epoch, val, **kwargs): print(f\"After {epoch}: {val}\")"
   ]
  },
  {
   "cell_type": "code",
   "execution_count": 38,
   "metadata": {},
   "outputs": [
    {
     "name": "stdout",
     "output_type": "stream",
     "text": [
      "About to start: 0\n",
      "After 0: 0\n",
      "About to start: 1\n",
      "After 1: 1\n",
      "About to start: 2\n",
      "After 2: 5\n",
      "About to start: 3\n",
      "After 3: 14\n",
      "About to start: 4\n",
      "After 4: 30\n"
     ]
    },
    {
     "data": {
      "text/plain": [
       "30"
      ]
     },
     "execution_count": 38,
     "metadata": {},
     "output_type": "execute_result"
    }
   ],
   "source": [
    "#collapse_show\n",
    "slow_calculation(PrintStatusCallback())"
   ]
  },
  {
   "cell_type": "markdown",
   "metadata": {},
   "source": [
    "### Modifying behavior"
   ]
  },
  {
   "cell_type": "markdown",
   "metadata": {},
   "source": [
    "[Jump_to lesson 10 video](https://course.fast.ai/videos/?lesson=10&t=1454)"
   ]
  },
  {
   "cell_type": "markdown",
   "metadata": {},
   "source": [
    "We can now use this to implement early stopping. "
   ]
  },
  {
   "cell_type": "code",
   "execution_count": 39,
   "metadata": {},
   "outputs": [],
   "source": [
    "#collapse_show\n",
    "def slow_calculation(cb=None):\n",
    "    res = 0\n",
    "    for i in range(5):\n",
    "        if cb and hasattr(cb,'before_calc'): cb.before_calc(i)\n",
    "        res += i*i\n",
    "        sleep(1)\n",
    "        if cb and hasattr(cb,'after_calc'):\n",
    "            if cb.after_calc(i, res):\n",
    "                print(\"stopping early\")\n",
    "                break\n",
    "    return res"
   ]
  },
  {
   "cell_type": "code",
   "execution_count": 40,
   "metadata": {},
   "outputs": [],
   "source": [
    "#collapse_show\n",
    "class PrintAfterCallback():\n",
    "    def after_calc (self, epoch, val):\n",
    "        print(f\"After {epoch}: {val}\")\n",
    "        if val>10: return True"
   ]
  },
  {
   "cell_type": "code",
   "execution_count": 41,
   "metadata": {
    "scrolled": true
   },
   "outputs": [
    {
     "name": "stdout",
     "output_type": "stream",
     "text": [
      "After 0: 0\n",
      "After 1: 1\n",
      "After 2: 5\n",
      "After 3: 14\n",
      "stopping early\n"
     ]
    },
    {
     "data": {
      "text/plain": [
       "14"
      ]
     },
     "execution_count": 41,
     "metadata": {},
     "output_type": "execute_result"
    }
   ],
   "source": [
    "#collapse_show\n",
    "slow_calculation(PrintAfterCallback())"
   ]
  },
  {
   "cell_type": "markdown",
   "metadata": {},
   "source": [
    "We can now use implement a class, this will allow our callback to modify the values inside the class.  "
   ]
  },
  {
   "cell_type": "code",
   "execution_count": 42,
   "metadata": {},
   "outputs": [],
   "source": [
    "#collapse_show\n",
    "class SlowCalculator():\n",
    "    def __init__(self, cb=None): self.cb,self.res = cb,0\n",
    "    \n",
    "    def callback(self, cb_name, *args):\n",
    "        if not self.cb: return\n",
    "        cb = getattr(self.cb,cb_name, None)\n",
    "        if cb: return cb(self, *args)\n",
    "\n",
    "    def calc(self):\n",
    "        for i in range(5):\n",
    "            self.callback('before_calc', i)\n",
    "            self.res += i*i\n",
    "            sleep(1)\n",
    "            if self.callback('after_calc', i):\n",
    "                print(\"stopping early\")\n",
    "                break"
   ]
  },
  {
   "cell_type": "markdown",
   "metadata": {},
   "source": [
    "Using __dunder__ method `__call__` we can do it like this : "
   ]
  },
  {
   "cell_type": "code",
   "execution_count": 66,
   "metadata": {},
   "outputs": [],
   "source": [
    "#collapse_show\n",
    "class SlowCalculator():\n",
    "    def __init__(self, cb=None): self.cb,self.res = cb,0\n",
    "    \n",
    "    def __call__(self, cb_name, *args):\n",
    "        if not self.cb: return\n",
    "        cb = getattr(self.cb,cb_name, None)\n",
    "        if cb: return cb(self, *args)\n",
    "\n",
    "    def calc(self):\n",
    "        for i in range(5):\n",
    "            self('before_calc', i)\n",
    "            self.res += i*i\n",
    "            sleep(1)\n",
    "            if self('after_calc', i):\n",
    "                print(\"stopping early\")\n",
    "                break"
   ]
  },
  {
   "cell_type": "code",
   "execution_count": 69,
   "metadata": {},
   "outputs": [],
   "source": [
    "#collapse_show\n",
    "class ModifyingCallback():\n",
    "    def before_calc(self,calc,epoch):\n",
    "        print(\"Starting Calc\",epoch)\n",
    "    def after_calc (self, calc, epoch):\n",
    "        print(f\"After {epoch}: {calc.res}\")\n",
    "        if calc.res>10: return True\n",
    "        if calc.res<3: calc.res = calc.res*2"
   ]
  },
  {
   "cell_type": "code",
   "execution_count": 70,
   "metadata": {},
   "outputs": [
    {
     "name": "stdout",
     "output_type": "stream",
     "text": [
      "Starting Calc 0\n",
      "After 0: 0\n",
      "Starting Calc 1\n",
      "After 1: 1\n",
      "Starting Calc 2\n",
      "After 2: 6\n",
      "Starting Calc 3\n",
      "After 3: 15\n",
      "stopping early\n"
     ]
    },
    {
     "data": {
      "text/plain": [
       "15"
      ]
     },
     "execution_count": 70,
     "metadata": {},
     "output_type": "execute_result"
    }
   ],
   "source": [
    "#collapse_show\n",
    "calculator = SlowCalculator(ModifyingCallback())\n",
    "calculator.calc()\n",
    "calculator.res"
   ]
  },
  {
   "cell_type": "markdown",
   "metadata": {},
   "source": [
    "## `__dunder__` thingies"
   ]
  },
  {
   "cell_type": "markdown",
   "metadata": {},
   "source": [
    "Anything that looks like `__this__` is, in some way, *special*. Python, or some library, can define some functions that they will call at certain documented times. For instance, when your class is setting up a new object, python will call `__init__`. These are defined as part of the python [data model](https://docs.python.org/3/reference/datamodel.html#object.__init__).\n",
    "\n",
    "For instance, if python sees `+`, then it will call the special method `__add__`. If you try to display an object in Jupyter (or lots of other places in Python) it will call `__repr__`."
   ]
  },
  {
   "cell_type": "markdown",
   "metadata": {},
   "source": [
    "[Jump_to lesson 10 video](https://course.fast.ai/videos/?lesson=10&t=1647)"
   ]
  },
  {
   "cell_type": "code",
   "execution_count": 46,
   "metadata": {},
   "outputs": [],
   "source": [
    "#collapse_show\n",
    "class SloppyAdder():\n",
    "    def __init__(self,o): self.o=o\n",
    "    def __add__(self,b): return SloppyAdder(self.o + b.o + 0.01)\n",
    "    def __repr__(self): return str(self.o)"
   ]
  },
  {
   "cell_type": "code",
   "execution_count": 47,
   "metadata": {},
   "outputs": [
    {
     "data": {
      "text/plain": [
       "3.01"
      ]
     },
     "execution_count": 47,
     "metadata": {},
     "output_type": "execute_result"
    }
   ],
   "source": [
    "#collapse_show\n",
    "a = SloppyAdder(1)\n",
    "b = SloppyAdder(2)\n",
    "a+b"
   ]
  },
  {
   "cell_type": "markdown",
   "metadata": {},
   "source": [
    "Special methods you should probably know about (see data model link above) are:\n",
    "\n",
    "- `__getitem__`\n",
    "- `__getattr__`\n",
    "- `__setattr__`\n",
    "- `__del__`\n",
    "- `__init__`\n",
    "- `__new__`\n",
    "- `__enter__`\n",
    "- `__exit__`\n",
    "- `__len__`\n",
    "- `__repr__`\n",
    "- `__str__`"
   ]
  },
  {
   "cell_type": "markdown",
   "metadata": {},
   "source": [
    "## Variance and stuff"
   ]
  },
  {
   "cell_type": "markdown",
   "metadata": {},
   "source": [
    "### Variance"
   ]
  },
  {
   "cell_type": "markdown",
   "metadata": {},
   "source": [
    "Variance is the average of how far away each data point is from the mean. E.g.:"
   ]
  },
  {
   "cell_type": "markdown",
   "metadata": {},
   "source": [
    "[Jump_to lesson 10 video](https://course.fast.ai/videos/?lesson=10&t=2133)"
   ]
  },
  {
   "cell_type": "code",
   "execution_count": 48,
   "metadata": {},
   "outputs": [],
   "source": [
    "#collapse\n",
    "t = torch.tensor([1.,2.,4.,18])"
   ]
  },
  {
   "cell_type": "code",
   "execution_count": 49,
   "metadata": {},
   "outputs": [
    {
     "data": {
      "text/plain": [
       "tensor(6.2500)"
      ]
     },
     "execution_count": 49,
     "metadata": {},
     "output_type": "execute_result"
    }
   ],
   "source": [
    "#collapse\n",
    "m = t.mean(); m"
   ]
  },
  {
   "cell_type": "code",
   "execution_count": 50,
   "metadata": {},
   "outputs": [
    {
     "data": {
      "text/plain": [
       "tensor(0.)"
      ]
     },
     "execution_count": 50,
     "metadata": {},
     "output_type": "execute_result"
    }
   ],
   "source": [
    "#collapse\n",
    "(t-m).mean()"
   ]
  },
  {
   "cell_type": "markdown",
   "metadata": {},
   "source": [
    "Oops. We can't do that. Because by definition the positives and negatives cancel out. So we can fix that in one of (at least) two ways:"
   ]
  },
  {
   "cell_type": "code",
   "execution_count": 51,
   "metadata": {},
   "outputs": [
    {
     "data": {
      "text/plain": [
       "tensor(47.1875)"
      ]
     },
     "execution_count": 51,
     "metadata": {},
     "output_type": "execute_result"
    }
   ],
   "source": [
    "#collapse\n",
    "(t-m).pow(2).mean()"
   ]
  },
  {
   "cell_type": "code",
   "execution_count": 52,
   "metadata": {},
   "outputs": [
    {
     "data": {
      "text/plain": [
       "tensor(5.8750)"
      ]
     },
     "execution_count": 52,
     "metadata": {},
     "output_type": "execute_result"
    }
   ],
   "source": [
    "#collapse\n",
    "(t-m).abs().mean()"
   ]
  },
  {
   "cell_type": "markdown",
   "metadata": {},
   "source": [
    "But the first of these is now a totally different scale, since we squared. So let's undo that at the end."
   ]
  },
  {
   "cell_type": "code",
   "execution_count": 53,
   "metadata": {},
   "outputs": [
    {
     "data": {
      "text/plain": [
       "tensor(6.8693)"
      ]
     },
     "execution_count": 53,
     "metadata": {},
     "output_type": "execute_result"
    }
   ],
   "source": [
    "#collapse\n",
    "(t-m).pow(2).mean().sqrt()"
   ]
  },
  {
   "cell_type": "markdown",
   "metadata": {},
   "source": [
    "They're still different. Why?\n",
    "\n",
    "Note that we have one outlier (`18`). In the version where we square everything, it makes that much bigger than everything else.\n",
    "\n",
    "`(t-m).pow(2).mean()` is refered to as **variance**. It's a measure of how spread out the data is, and is particularly sensitive to outliers.\n",
    "\n",
    "When we take the sqrt of the variance, we get the **standard deviation**. Since it's on the same kind of scale as the original data, it's generally more interpretable. However, since `sqrt(1)==1`, it doesn't much matter which we use when talking about *unit variance* for initializing neural nets.\n",
    "\n",
    "`(t-m).abs().mean()` is referred to as the **mean absolute deviation**. It isn't used nearly as much as it deserves to be, because mathematicians don't like how awkward it is to work with. But that shouldn't stop us, because we have computers and stuff.\n",
    "\n",
    "Here's a useful thing to note about variance:"
   ]
  },
  {
   "cell_type": "code",
   "execution_count": 54,
   "metadata": {},
   "outputs": [
    {
     "data": {
      "text/plain": [
       "(tensor(47.1875), tensor(47.1875))"
      ]
     },
     "execution_count": 54,
     "metadata": {},
     "output_type": "execute_result"
    }
   ],
   "source": [
    "#collapse_show\n",
    "(t-m).pow(2).mean(), (t*t).mean() - (m*m)"
   ]
  },
  {
   "cell_type": "markdown",
   "metadata": {},
   "source": [
    "You can see why these are equal if you want to work thru the algebra. Or not.\n",
    "\n",
    "But, what's important here is that the latter is generally much easier to work with. In particular, you only have to track two things: the sum of the data, and the sum of squares of the data. Whereas in the first form you actually have to go thru all the data twice (once to calculate the mean, once to calculate the differences).\n",
    "\n",
    "Let's go steal the LaTeX from [Wikipedia](https://en.wikipedia.org/wiki/Variance):\n",
    "\n",
    "$$\\operatorname{E}\\left[X^2 \\right] - \\operatorname{E}[X]^2$$"
   ]
  },
  {
   "cell_type": "markdown",
   "metadata": {},
   "source": [
    "### Covariance and correlation"
   ]
  },
  {
   "cell_type": "markdown",
   "metadata": {},
   "source": [
    "Here's how Wikipedia defines covariance:\n",
    "\n",
    "$$\\operatorname{cov}(X,Y) = \\operatorname{E}{\\big[(X - \\operatorname{E}[X])(Y - \\operatorname{E}[Y])\\big]}$$"
   ]
  },
  {
   "cell_type": "markdown",
   "metadata": {},
   "source": [
    "[Jump_to lesson 10 video](https://course.fast.ai/videos/?lesson=10&t=2414)"
   ]
  },
  {
   "cell_type": "code",
   "execution_count": 55,
   "metadata": {},
   "outputs": [
    {
     "data": {
      "text/plain": [
       "tensor([ 1.,  2.,  4., 18.])"
      ]
     },
     "execution_count": 55,
     "metadata": {},
     "output_type": "execute_result"
    }
   ],
   "source": [
    "#collapse\n",
    "t"
   ]
  },
  {
   "cell_type": "markdown",
   "metadata": {},
   "source": [
    "Let's see that in code. So now we need two vectors."
   ]
  },
  {
   "cell_type": "code",
   "execution_count": 56,
   "metadata": {},
   "outputs": [
    {
     "data": {
      "image/png": "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\n",
      "text/plain": [
       "<Figure size 432x288 with 1 Axes>"
      ]
     },
     "metadata": {
      "needs_background": "light"
     },
     "output_type": "display_data"
    }
   ],
   "source": [
    "#collapse\n",
    "# `u` is twice `t`, plus a bit of randomness\n",
    "u = t*2\n",
    "u *= torch.randn_like(t)/10+0.95\n",
    "\n",
    "plt.scatter(t, u);"
   ]
  },
  {
   "cell_type": "code",
   "execution_count": 57,
   "metadata": {},
   "outputs": [
    {
     "data": {
      "text/plain": [
       "tensor([ 47.2418,  31.4825,   5.0474, 219.1298])"
      ]
     },
     "execution_count": 57,
     "metadata": {},
     "output_type": "execute_result"
    }
   ],
   "source": [
    "#collapse\n",
    "prod = (t-t.mean())*(u-u.mean()); prod"
   ]
  },
  {
   "cell_type": "code",
   "execution_count": 58,
   "metadata": {},
   "outputs": [
    {
     "data": {
      "text/plain": [
       "tensor(75.7254)"
      ]
     },
     "execution_count": 58,
     "metadata": {},
     "output_type": "execute_result"
    }
   ],
   "source": [
    "#collapse\n",
    "prod.mean()"
   ]
  },
  {
   "cell_type": "code",
   "execution_count": 59,
   "metadata": {},
   "outputs": [
    {
     "data": {
      "image/png": "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\n",
      "text/plain": [
       "<Figure size 432x288 with 1 Axes>"
      ]
     },
     "metadata": {
      "needs_background": "light"
     },
     "output_type": "display_data"
    }
   ],
   "source": [
    "#collapse\n",
    "v = torch.randn_like(t)\n",
    "plt.scatter(t, v);"
   ]
  },
  {
   "cell_type": "code",
   "execution_count": 60,
   "metadata": {},
   "outputs": [
    {
     "data": {
      "text/plain": [
       "tensor(1.8393)"
      ]
     },
     "execution_count": 60,
     "metadata": {},
     "output_type": "execute_result"
    }
   ],
   "source": [
    "#collapse\n",
    "((t-t.mean())*(v-v.mean())).mean()"
   ]
  },
  {
   "cell_type": "markdown",
   "metadata": {},
   "source": [
    "It's generally more conveniently defined like so:\n",
    "\n",
    "$$\\operatorname{E}\\left[X Y\\right] - \\operatorname{E}\\left[X\\right] \\operatorname{E}\\left[Y\\right]$$"
   ]
  },
  {
   "cell_type": "code",
   "execution_count": 61,
   "metadata": {},
   "outputs": [
    {
     "data": {
      "text/plain": [
       "tensor(1.8393)"
      ]
     },
     "execution_count": 61,
     "metadata": {},
     "output_type": "execute_result"
    }
   ],
   "source": [
    "#collapse\n",
    "cov = (t*v).mean() - t.mean()*v.mean(); cov"
   ]
  },
  {
   "cell_type": "markdown",
   "metadata": {},
   "source": [
    "From now on, you're not allowed to look at an equation (or especially type it in LaTeX) without also typing it in Python and actually calculating some values. Ideally, you should also plot some values.\n",
    "\n",
    "Finally, here is the Pearson correlation coefficient:\n",
    "\n",
    "$$\\rho_{X,Y}= \\frac{\\operatorname{cov}(X,Y)}{\\sigma_X \\sigma_Y}$$"
   ]
  },
  {
   "cell_type": "code",
   "execution_count": 62,
   "metadata": {},
   "outputs": [
    {
     "data": {
      "text/plain": [
       "tensor(0.1834)"
      ]
     },
     "execution_count": 62,
     "metadata": {},
     "output_type": "execute_result"
    }
   ],
   "source": [
    "#collapse_show\n",
    "cov / (t.std() * v.std())"
   ]
  },
  {
   "cell_type": "markdown",
   "metadata": {},
   "source": [
    "It's just a scaled version of the same thing. Question: *Why is it scaled by standard deviation, and not by variance or mean or something else?*"
   ]
  },
  {
   "cell_type": "markdown",
   "metadata": {},
   "source": [
    "## Softmax"
   ]
  },
  {
   "cell_type": "markdown",
   "metadata": {},
   "source": [
    "Here's our final `logsoftmax` definition:"
   ]
  },
  {
   "cell_type": "markdown",
   "metadata": {},
   "source": [
    "[Jump_to lesson 10 video](https://course.fast.ai/videos/?lesson=10&t=2674)"
   ]
  },
  {
   "cell_type": "code",
   "execution_count": 63,
   "metadata": {},
   "outputs": [],
   "source": [
    "#collapse_show\n",
    "def log_softmax(x): return x - x.exp().sum(-1,keepdim=True).log()"
   ]
  },
  {
   "cell_type": "markdown",
   "metadata": {},
   "source": [
    "which is:\n",
    "\n",
    "$$\\hbox{logsoftmax(x)}_{i} = x_{i} - \\log \\sum_{j} e^{x_{j}}$$ \n",
    "\n",
    "And our cross entropy loss is:\n",
    "$$-\\log(p_{i})$$"
   ]
  },
  {
   "cell_type": "markdown",
   "metadata": {},
   "source": [
    "Softmax is only a good idea, when our data (e.g. image) has only one (at least one) example, due to the highest output being far higher in Softmax due to the e function. In these cases binomial : $e^{x}/(1+e^{x})$"
   ]
  },
  {
   "cell_type": "markdown",
   "metadata": {},
   "source": [
    "## Browsing source code"
   ]
  },
  {
   "cell_type": "markdown",
   "metadata": {},
   "source": [
    "[Jump_to lesson 10 video](https://course.fast.ai/videos/?lesson=10&t=1782)"
   ]
  },
  {
   "cell_type": "markdown",
   "metadata": {},
   "source": [
    "- Jump to tag/symbol by with (with completions)\n",
    "- Jump to current tag\n",
    "- Jump to library tags\n",
    "- Go back\n",
    "- Search\n",
    "- Outlining / folding"
   ]
  }
 ],
 "metadata": {
  "kernelspec": {
   "display_name": "Python 3",
   "language": "python",
   "name": "python3"
  },
  "language_info": {
   "codemirror_mode": {
    "name": "ipython",
    "version": 3
   },
   "file_extension": ".py",
   "mimetype": "text/x-python",
   "name": "python",
   "nbconvert_exporter": "python",
   "pygments_lexer": "ipython3",
   "version": "3.6.10"
  }
 },
 "nbformat": 4,
 "nbformat_minor": 2
}

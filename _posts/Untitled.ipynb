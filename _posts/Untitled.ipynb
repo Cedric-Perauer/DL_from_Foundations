{
 "cells": [
  {
   "cell_type": "markdown",
   "metadata": {},
   "source": [
    "## Delving Deep into Rectifiers:\n",
    "Surpassing Human-Level Performance on ImageNet Classification a summary of the paper\n"
   ]
  },
  {
   "cell_type": "markdown",
   "metadata": {},
   "source": [
    "### What did the authors want to achieve ? \n",
    "+ Achieve above human level performance on vision (ImageNet) \n",
    "+ Train deep Networks with rectifier functions (ReLu,LReLu,PReLU) effectively \n",
    "+ Improve accuracy by enabling the training of deeper and larger networks \n",
    "\n"
   ]
  },
  {
   "cell_type": "markdown",
   "metadata": {},
   "source": [
    "### Key elements\n",
    "+ The key elements are a different kind of rectifier activation function called PReLu, which is very similar to LReLu as well as a different initalization technique called Kaiming/He init which improves upon the fact that Xavier initalization does not consider the non-linearities of ReLu kind functions          \n",
    "\n",
    "#### PReLU\n",
    "![](images/prelu.png)\n",
    "+ sfsdf \n",
    "\n",
    "#### Kaiming Initalization"
   ]
  },
  {
   "cell_type": "code",
   "execution_count": null,
   "metadata": {},
   "outputs": [],
   "source": [
    "### Results and "
   ]
  }
 ],
 "metadata": {
  "kernelspec": {
   "display_name": "Python 2",
   "language": "python",
   "name": "python2"
  },
  "language_info": {
   "codemirror_mode": {
    "name": "ipython",
    "version": 2
   },
   "file_extension": ".py",
   "mimetype": "text/x-python",
   "name": "python",
   "nbconvert_exporter": "python",
   "pygments_lexer": "ipython2",
   "version": "2.7.17"
  }
 },
 "nbformat": 4,
 "nbformat_minor": 2
}

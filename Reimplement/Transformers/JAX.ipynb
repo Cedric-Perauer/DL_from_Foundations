{
  "nbformat": 4,
  "nbformat_minor": 0,
  "metadata": {
    "colab": {
      "name": "JAX.ipynb",
      "provenance": []
    },
    "kernelspec": {
      "name": "python3",
      "display_name": "Python 3"
    },
    "language_info": {
      "name": "python"
    }
  },
  "cells": [
    {
      "cell_type": "code",
      "metadata": {
        "id": "7ROMChL4DpVg"
      },
      "source": [
        "import numpy.random as npr\n",
        "\n",
        "import jax.numpy as jnp\n",
        "from jax import jit, grad, random\n",
        "from jax.experimental import optimizers\n",
        "from jax.experimental import stax\n",
        "from jax.experimental.stax import (AvgPool, BatchNorm, Conv, Dense, FanInSum,\n",
        "                                   FanOut, Flatten, GeneralConv, Identity,\n",
        "                                   MaxPool, Relu, LogSoftmax)\n"
      ],
      "execution_count": 1,
      "outputs": []
    },
    {
      "cell_type": "code",
      "metadata": {
        "id": "kOKrAe1fEH3D"
      },
      "source": [
        "def ResBlock(ks,filters,strides=(2,2)):\n",
        "     f1,f2,f3 = filters\n",
        "     Main = stax.serial(\n",
        "         Conv(f1,(1,1),strides), BatchNorm(),Relu, \n",
        "         Conv(f2,(ks,ks),strides,padding='SAME'), BatchNorm(),Relu, \n",
        "         Conv(f3,(1,1),strides), BatchNorm()\n",
        "     )\n",
        "     Shortcut = stax.serial(Conv(f3,(1,1),strides),BatchNorm())\n",
        "     return stax.serial(FanOut(2),stax.parallel(Main,Shortcut),FanInSum,Relu)"
      ],
      "execution_count": 8,
      "outputs": []
    },
    {
      "cell_type": "code",
      "metadata": {
        "id": "Woc_KiOBVigL"
      },
      "source": [
        "def IdentityBlock(ks,filters):\n",
        "   f1,f2 = filters\n",
        "   def make_main(input_shape):\n",
        "     return stax.serial(\n",
        "         Conv(f1,(1,1),strides), BatchNorm(),Relu, \n",
        "         Conv(f2,(ks,ks),strides,padding='SAME'), BatchNorm(),Relu, \n",
        "         Conv(input_shape[3],(1,1),strides), BatchNorm())\n",
        "     Main = stax.shape_dependent(make_main)\n",
        "     return stax.serial(FanOut(2),stax.parallel(Main,Identity),FanInSum,Relu)\n",
        "  "
      ],
      "execution_count": 12,
      "outputs": []
    },
    {
      "cell_type": "code",
      "metadata": {
        "id": "1byGiWVyXOS_"
      },
      "source": [
        "def ResNet50(num_classes):\n",
        "  return stax.serial(\n",
        "      GeneralConv(('HWCN', 'OIHW', 'NHWC'), 64, (7, 7), (2, 2), 'SAME'),\n",
        "      BatchNorm(), Relu, MaxPool((3, 3), strides=(2, 2)),\n",
        "      ResBlock(3, [64, 64, 256], strides=(1, 1)),\n",
        "      IdentityBlock(3, [64, 64]),\n",
        "      IdentityBlock(3, [64, 64]),\n",
        "      ResBlock(3, [128, 128, 512]),\n",
        "      IdentityBlock(3, [128, 128]),\n",
        "      IdentityBlock(3, [128, 128]),\n",
        "      IdentityBlock(3, [128, 128]),\n",
        "      ResBlock(3, [256, 256, 1024]),\n",
        "      IdentityBlock(3, [256, 256]),\n",
        "      IdentityBlock(3, [256, 256]),\n",
        "      IdentityBlock(3, [256, 256]),\n",
        "      IdentityBlock(3, [256, 256]),\n",
        "      IdentityBlock(3, [256, 256]),\n",
        "      ResBlock(3, [512, 512, 2048]),\n",
        "      IdentityBlock(3, [512, 512]),\n",
        "      IdentityBlock(3, [512, 512]),\n",
        "      AvgPool((7, 7)), Flatten, Dense(num_classes), LogSoftmax)"
      ],
      "execution_count": 13,
      "outputs": []
    },
    {
      "cell_type": "code",
      "metadata": {
        "colab": {
          "base_uri": "https://localhost:8080/",
          "height": 375
        },
        "id": "XuCEr4_VXj9p",
        "outputId": "30779267-79b2-4350-e55e-e99be05af25a"
      },
      "source": [
        "if __name__ == \"__main__\":\n",
        "  rng_key = random.PRNGKey(0)\n",
        "\n",
        "  batch_size = 8\n",
        "  num_classes = 1001\n",
        "  input_shape = (224, 224, 3, batch_size)\n",
        "  step_size = 0.1\n",
        "  num_steps = 10\n",
        "\n",
        "  init_fun, predict_fun = ResNet50(num_classes)\n",
        "  _, init_params = init_fun(rng_key, input_shape)\n",
        "\n",
        "  def loss(params, batch):\n",
        "    inputs, targets = batch\n",
        "    logits = predict_fun(params, inputs)\n",
        "    return -jnp.sum(logits * targets)\n",
        "\n",
        "  def accuracy(params, batch):\n",
        "    inputs, targets = batch\n",
        "    target_class = jnp.argmax(targets, axis=-1)\n",
        "    predicted_class = jnp.argmax(predict_fun(params, inputs), axis=-1)\n",
        "    return jnp.mean(predicted_class == target_class)\n",
        "\n",
        "  def synth_batches():\n",
        "    rng = npr.RandomState(0)\n",
        "    while True:\n",
        "      images = rng.rand(*input_shape).astype('float32')\n",
        "      labels = rng.randint(num_classes, size=(batch_size, 1))\n",
        "      onehot_labels = labels == jnp.arange(num_classes)\n",
        "      yield images, onehot_labels\n",
        "\n",
        "  opt_init, opt_update, get_params = optimizers.momentum(step_size, mass=0.9)\n",
        "  batches = synth_batches()\n",
        "\n",
        "  @jit\n",
        "  def update(i, opt_state, batch):\n",
        "    params = get_params(opt_state)\n",
        "    return opt_update(i, grad(loss)(params, batch), opt_state)\n",
        "\n",
        "  opt_state = opt_init(init_params)\n",
        "  for i in range(num_steps):\n",
        "    opt_state = update(i, opt_state, next(batches))\n",
        "  trained_params = get_params(opt_state)"
      ],
      "execution_count": 15,
      "outputs": [
        {
          "output_type": "error",
          "ename": "TypeError",
          "evalue": "ignored",
          "traceback": [
            "\u001b[0;31m---------------------------------------------------------------------------\u001b[0m",
            "\u001b[0;31mTypeError\u001b[0m                                 Traceback (most recent call last)",
            "\u001b[0;32m<ipython-input-15-c169a87531b2>\u001b[0m in \u001b[0;36m<module>\u001b[0;34m()\u001b[0m\n\u001b[1;32m      8\u001b[0m   \u001b[0mnum_steps\u001b[0m \u001b[0;34m=\u001b[0m \u001b[0;36m10\u001b[0m\u001b[0;34m\u001b[0m\u001b[0;34m\u001b[0m\u001b[0m\n\u001b[1;32m      9\u001b[0m \u001b[0;34m\u001b[0m\u001b[0m\n\u001b[0;32m---> 10\u001b[0;31m   \u001b[0minit_fun\u001b[0m\u001b[0;34m,\u001b[0m \u001b[0mpredict_fun\u001b[0m \u001b[0;34m=\u001b[0m \u001b[0mResNet50\u001b[0m\u001b[0;34m(\u001b[0m\u001b[0mnum_classes\u001b[0m\u001b[0;34m)\u001b[0m\u001b[0;34m\u001b[0m\u001b[0;34m\u001b[0m\u001b[0m\n\u001b[0m\u001b[1;32m     11\u001b[0m   \u001b[0m_\u001b[0m\u001b[0;34m,\u001b[0m \u001b[0minit_params\u001b[0m \u001b[0;34m=\u001b[0m \u001b[0minit_fun\u001b[0m\u001b[0;34m(\u001b[0m\u001b[0mrng_key\u001b[0m\u001b[0;34m,\u001b[0m \u001b[0minput_shape\u001b[0m\u001b[0;34m)\u001b[0m\u001b[0;34m\u001b[0m\u001b[0;34m\u001b[0m\u001b[0m\n\u001b[1;32m     12\u001b[0m \u001b[0;34m\u001b[0m\u001b[0m\n",
            "\u001b[0;32m<ipython-input-13-ff8aafcf11ee>\u001b[0m in \u001b[0;36mResNet50\u001b[0;34m(num_classes)\u001b[0m\n\u001b[1;32m     19\u001b[0m       \u001b[0mIdentityBlock\u001b[0m\u001b[0;34m(\u001b[0m\u001b[0;36m3\u001b[0m\u001b[0;34m,\u001b[0m \u001b[0;34m[\u001b[0m\u001b[0;36m512\u001b[0m\u001b[0;34m,\u001b[0m \u001b[0;36m512\u001b[0m\u001b[0;34m]\u001b[0m\u001b[0;34m)\u001b[0m\u001b[0;34m,\u001b[0m\u001b[0;34m\u001b[0m\u001b[0;34m\u001b[0m\u001b[0m\n\u001b[1;32m     20\u001b[0m       \u001b[0mIdentityBlock\u001b[0m\u001b[0;34m(\u001b[0m\u001b[0;36m3\u001b[0m\u001b[0;34m,\u001b[0m \u001b[0;34m[\u001b[0m\u001b[0;36m512\u001b[0m\u001b[0;34m,\u001b[0m \u001b[0;36m512\u001b[0m\u001b[0;34m]\u001b[0m\u001b[0;34m)\u001b[0m\u001b[0;34m,\u001b[0m\u001b[0;34m\u001b[0m\u001b[0;34m\u001b[0m\u001b[0m\n\u001b[0;32m---> 21\u001b[0;31m       AvgPool((7, 7)), Flatten, Dense(num_classes), LogSoftmax)\n\u001b[0m",
            "\u001b[0;32m/usr/local/lib/python3.7/dist-packages/jax/experimental/stax.py\u001b[0m in \u001b[0;36mserial\u001b[0;34m(*layers)\u001b[0m\n\u001b[1;32m    288\u001b[0m   \"\"\"\n\u001b[1;32m    289\u001b[0m   \u001b[0mnlayers\u001b[0m \u001b[0;34m=\u001b[0m \u001b[0mlen\u001b[0m\u001b[0;34m(\u001b[0m\u001b[0mlayers\u001b[0m\u001b[0;34m)\u001b[0m\u001b[0;34m\u001b[0m\u001b[0;34m\u001b[0m\u001b[0m\n\u001b[0;32m--> 290\u001b[0;31m   \u001b[0minit_funs\u001b[0m\u001b[0;34m,\u001b[0m \u001b[0mapply_funs\u001b[0m \u001b[0;34m=\u001b[0m \u001b[0mzip\u001b[0m\u001b[0;34m(\u001b[0m\u001b[0;34m*\u001b[0m\u001b[0mlayers\u001b[0m\u001b[0;34m)\u001b[0m\u001b[0;34m\u001b[0m\u001b[0;34m\u001b[0m\u001b[0m\n\u001b[0m\u001b[1;32m    291\u001b[0m   \u001b[0;32mdef\u001b[0m \u001b[0minit_fun\u001b[0m\u001b[0;34m(\u001b[0m\u001b[0mrng\u001b[0m\u001b[0;34m,\u001b[0m \u001b[0minput_shape\u001b[0m\u001b[0;34m)\u001b[0m\u001b[0;34m:\u001b[0m\u001b[0;34m\u001b[0m\u001b[0;34m\u001b[0m\u001b[0m\n\u001b[1;32m    292\u001b[0m     \u001b[0mparams\u001b[0m \u001b[0;34m=\u001b[0m \u001b[0;34m[\u001b[0m\u001b[0;34m]\u001b[0m\u001b[0;34m\u001b[0m\u001b[0;34m\u001b[0m\u001b[0m\n",
            "\u001b[0;31mTypeError\u001b[0m: zip argument #6 must support iteration"
          ]
        }
      ]
    },
    {
      "cell_type": "code",
      "metadata": {
        "id": "5pJFhxplXwcp"
      },
      "source": [
        ""
      ],
      "execution_count": null,
      "outputs": []
    }
  ]
}
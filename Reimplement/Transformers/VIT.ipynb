{
  "nbformat": 4,
  "nbformat_minor": 0,
  "metadata": {
    "colab": {
      "name": "VIT.ipynb",
      "provenance": [],
      "collapsed_sections": []
    },
    "kernelspec": {
      "name": "python3",
      "display_name": "Python 3"
    }
  },
  "cells": [
    {
      "cell_type": "code",
      "metadata": {
        "id": "t3XvAFDcXrxq"
      },
      "source": [
        "import numpy as np \n",
        "import tensorflow as tf \n",
        "from tensorflow import keras \n",
        "from tensorflow.keras import layers \n",
        "import tensorflow_addons as tfad\n",
        "import matplotlib.pyplot as plt"
      ],
      "execution_count": 10,
      "outputs": []
    },
    {
      "cell_type": "code",
      "metadata": {
        "colab": {
          "base_uri": "https://localhost:8080/"
        },
        "id": "DgyklRoyX6I-",
        "outputId": "f091db3a-0dbc-497f-cc26-d06839df61a6"
      },
      "source": [
        "!pip install -U tensorflow-addons"
      ],
      "execution_count": 2,
      "outputs": [
        {
          "output_type": "stream",
          "text": [
            "Collecting tensorflow-addons\n",
            "\u001b[?25l  Downloading https://files.pythonhosted.org/packages/74/e3/56d2fe76f0bb7c88ed9b2a6a557e25e83e252aec08f13de34369cd850a0b/tensorflow_addons-0.12.1-cp37-cp37m-manylinux2010_x86_64.whl (703kB)\n",
            "\r\u001b[K     |▌                               | 10kB 14.2MB/s eta 0:00:01\r\u001b[K     |█                               | 20kB 18.4MB/s eta 0:00:01\r\u001b[K     |█▍                              | 30kB 17.3MB/s eta 0:00:01\r\u001b[K     |█▉                              | 40kB 17.9MB/s eta 0:00:01\r\u001b[K     |██▎                             | 51kB 16.4MB/s eta 0:00:01\r\u001b[K     |██▉                             | 61kB 18.6MB/s eta 0:00:01\r\u001b[K     |███▎                            | 71kB 12.8MB/s eta 0:00:01\r\u001b[K     |███▊                            | 81kB 13.4MB/s eta 0:00:01\r\u001b[K     |████▏                           | 92kB 12.4MB/s eta 0:00:01\r\u001b[K     |████▋                           | 102kB 12.6MB/s eta 0:00:01\r\u001b[K     |█████▏                          | 112kB 12.6MB/s eta 0:00:01\r\u001b[K     |█████▋                          | 122kB 12.6MB/s eta 0:00:01\r\u001b[K     |██████                          | 133kB 12.6MB/s eta 0:00:01\r\u001b[K     |██████▌                         | 143kB 12.6MB/s eta 0:00:01\r\u001b[K     |███████                         | 153kB 12.6MB/s eta 0:00:01\r\u001b[K     |███████▌                        | 163kB 12.6MB/s eta 0:00:01\r\u001b[K     |████████                        | 174kB 12.6MB/s eta 0:00:01\r\u001b[K     |████████▍                       | 184kB 12.6MB/s eta 0:00:01\r\u001b[K     |████████▉                       | 194kB 12.6MB/s eta 0:00:01\r\u001b[K     |█████████▎                      | 204kB 12.6MB/s eta 0:00:01\r\u001b[K     |█████████▉                      | 215kB 12.6MB/s eta 0:00:01\r\u001b[K     |██████████▎                     | 225kB 12.6MB/s eta 0:00:01\r\u001b[K     |██████████▊                     | 235kB 12.6MB/s eta 0:00:01\r\u001b[K     |███████████▏                    | 245kB 12.6MB/s eta 0:00:01\r\u001b[K     |███████████▋                    | 256kB 12.6MB/s eta 0:00:01\r\u001b[K     |████████████▏                   | 266kB 12.6MB/s eta 0:00:01\r\u001b[K     |████████████▋                   | 276kB 12.6MB/s eta 0:00:01\r\u001b[K     |█████████████                   | 286kB 12.6MB/s eta 0:00:01\r\u001b[K     |█████████████▌                  | 296kB 12.6MB/s eta 0:00:01\r\u001b[K     |██████████████                  | 307kB 12.6MB/s eta 0:00:01\r\u001b[K     |██████████████▍                 | 317kB 12.6MB/s eta 0:00:01\r\u001b[K     |███████████████                 | 327kB 12.6MB/s eta 0:00:01\r\u001b[K     |███████████████▍                | 337kB 12.6MB/s eta 0:00:01\r\u001b[K     |███████████████▉                | 348kB 12.6MB/s eta 0:00:01\r\u001b[K     |████████████████▎               | 358kB 12.6MB/s eta 0:00:01\r\u001b[K     |████████████████▊               | 368kB 12.6MB/s eta 0:00:01\r\u001b[K     |█████████████████▎              | 378kB 12.6MB/s eta 0:00:01\r\u001b[K     |█████████████████▊              | 389kB 12.6MB/s eta 0:00:01\r\u001b[K     |██████████████████▏             | 399kB 12.6MB/s eta 0:00:01\r\u001b[K     |██████████████████▋             | 409kB 12.6MB/s eta 0:00:01\r\u001b[K     |███████████████████             | 419kB 12.6MB/s eta 0:00:01\r\u001b[K     |███████████████████▋            | 430kB 12.6MB/s eta 0:00:01\r\u001b[K     |████████████████████            | 440kB 12.6MB/s eta 0:00:01\r\u001b[K     |████████████████████▌           | 450kB 12.6MB/s eta 0:00:01\r\u001b[K     |█████████████████████           | 460kB 12.6MB/s eta 0:00:01\r\u001b[K     |█████████████████████▍          | 471kB 12.6MB/s eta 0:00:01\r\u001b[K     |██████████████████████          | 481kB 12.6MB/s eta 0:00:01\r\u001b[K     |██████████████████████▍         | 491kB 12.6MB/s eta 0:00:01\r\u001b[K     |██████████████████████▉         | 501kB 12.6MB/s eta 0:00:01\r\u001b[K     |███████████████████████▎        | 512kB 12.6MB/s eta 0:00:01\r\u001b[K     |███████████████████████▊        | 522kB 12.6MB/s eta 0:00:01\r\u001b[K     |████████████████████████▎       | 532kB 12.6MB/s eta 0:00:01\r\u001b[K     |████████████████████████▊       | 542kB 12.6MB/s eta 0:00:01\r\u001b[K     |█████████████████████████▏      | 552kB 12.6MB/s eta 0:00:01\r\u001b[K     |█████████████████████████▋      | 563kB 12.6MB/s eta 0:00:01\r\u001b[K     |██████████████████████████      | 573kB 12.6MB/s eta 0:00:01\r\u001b[K     |██████████████████████████▋     | 583kB 12.6MB/s eta 0:00:01\r\u001b[K     |███████████████████████████     | 593kB 12.6MB/s eta 0:00:01\r\u001b[K     |███████████████████████████▌    | 604kB 12.6MB/s eta 0:00:01\r\u001b[K     |████████████████████████████    | 614kB 12.6MB/s eta 0:00:01\r\u001b[K     |████████████████████████████▍   | 624kB 12.6MB/s eta 0:00:01\r\u001b[K     |████████████████████████████▉   | 634kB 12.6MB/s eta 0:00:01\r\u001b[K     |█████████████████████████████▍  | 645kB 12.6MB/s eta 0:00:01\r\u001b[K     |█████████████████████████████▉  | 655kB 12.6MB/s eta 0:00:01\r\u001b[K     |██████████████████████████████▎ | 665kB 12.6MB/s eta 0:00:01\r\u001b[K     |██████████████████████████████▊ | 675kB 12.6MB/s eta 0:00:01\r\u001b[K     |███████████████████████████████▏| 686kB 12.6MB/s eta 0:00:01\r\u001b[K     |███████████████████████████████▊| 696kB 12.6MB/s eta 0:00:01\r\u001b[K     |████████████████████████████████| 706kB 12.6MB/s \n",
            "\u001b[?25hRequirement already satisfied, skipping upgrade: typeguard>=2.7 in /usr/local/lib/python3.7/dist-packages (from tensorflow-addons) (2.7.1)\n",
            "Installing collected packages: tensorflow-addons\n",
            "Successfully installed tensorflow-addons-0.12.1\n"
          ],
          "name": "stdout"
        }
      ]
    },
    {
      "cell_type": "code",
      "metadata": {
        "colab": {
          "base_uri": "https://localhost:8080/"
        },
        "id": "ZuqM55SoX_GY",
        "outputId": "ed317b31-d8ad-4d01-8bee-1027e9d2f76c"
      },
      "source": [
        "num_classes = 100\n",
        "input_shape = (32, 32, 3)\n",
        "\n",
        "(x_train, y_train), (x_test, y_test) = keras.datasets.cifar100.load_data()\n",
        "\n",
        "print(f\"x_train shape: {x_train.shape} - y_train shape: {y_train.shape}\")\n",
        "print(f\"x_test shape: {x_test.shape} - y_test shape: {y_test.shape}\")"
      ],
      "execution_count": 4,
      "outputs": [
        {
          "output_type": "stream",
          "text": [
            "Downloading data from https://www.cs.toronto.edu/~kriz/cifar-100-python.tar.gz\n",
            "169009152/169001437 [==============================] - 6s 0us/step\n",
            "x_train shape: (50000, 32, 32, 3) - y_train shape: (50000, 1)\n",
            "x_test shape: (10000, 32, 32, 3) - y_test shape: (10000, 1)\n"
          ],
          "name": "stdout"
        }
      ]
    },
    {
      "cell_type": "code",
      "metadata": {
        "id": "MUgrlBeEYEye"
      },
      "source": [
        "learning_rate = 0.001\n",
        "weight_decay = 0.0001\n",
        "batch_size = 256\n",
        "num_epochs = 100\n",
        "image_size = 72  # We'll resize input images to this size\n",
        "patch_size = 6  # Size of the patches to be extract from the input images\n",
        "num_patches = (image_size // patch_size) ** 2\n",
        "projection_dim = 64\n",
        "num_heads = 4\n",
        "transformer_units = [\n",
        "    projection_dim * 2,\n",
        "    projection_dim,\n",
        "]  # Size of the transformer layers\n",
        "transformer_layers = 8\n",
        "mlp_head_units = [2048, 1024]  # Size of the dense layers of the final classifier"
      ],
      "execution_count": 5,
      "outputs": []
    },
    {
      "cell_type": "code",
      "metadata": {
        "id": "u43iTl8LYJHS"
      },
      "source": [
        "data_augmentation = keras.Sequential(\n",
        "    [\n",
        "        layers.experimental.preprocessing.Normalization(),\n",
        "        layers.experimental.preprocessing.Resizing(image_size, image_size),\n",
        "        layers.experimental.preprocessing.RandomFlip(\"horizontal\"),\n",
        "        layers.experimental.preprocessing.RandomRotation(factor=0.02),\n",
        "        layers.experimental.preprocessing.RandomZoom(\n",
        "            height_factor=0.2, width_factor=0.2\n",
        "        ),\n",
        "    ],\n",
        "    name=\"data_augmentation\",\n",
        ")\n",
        "# Compute the mean and the variance of the training data for normalization.\n",
        "data_augmentation.layers[0].adapt(x_train)"
      ],
      "execution_count": 6,
      "outputs": []
    },
    {
      "cell_type": "code",
      "metadata": {
        "id": "Xk5fQzrlpG55"
      },
      "source": [
        "def mlp(x, hidden_units, dropout_rate):\n",
        "    for units in hidden_units:\n",
        "        x = layers.Dense(units, activation=tf.nn.gelu)(x)\n",
        "        x = layers.Dropout(dropout_rate)(x)\n",
        "    return x\n",
        "\n",
        "class MLPSingle(tf.keras.Model):\n",
        "  def __init__(self,units,dropout_rate):\n",
        "    super(MLPSingle,self).__init__()\n",
        "    self.fc = layers.Dense(units,activation=tf.nn.gelu)\n",
        "    self.drop = layers.Dropout(dropout_rate)\n",
        "\n",
        "  def call(self,x):\n",
        "    x = self.fc(x)\n",
        "    x = self.drop(x)\n",
        "    return x\n",
        "\n",
        "\n",
        "class MLP(tf.keras.Model):\n",
        "  def __init__(self,hidden_units,dropout_rate=0.5):\n",
        "    super(MLP,self).__init__()\n",
        "    self.lays = []\n",
        "    for units in hidden_units:\n",
        "      self.lays.append(MLPSingle(units,dropout_rate))\n",
        "\n",
        "  def call(self,x):\n",
        "    for layer in self.lays: \n",
        "      x = layer(x)\n",
        "    return x"
      ],
      "execution_count": 116,
      "outputs": []
    },
    {
      "cell_type": "code",
      "metadata": {
        "id": "1V_ISqvKZ5As"
      },
      "source": [
        "class Patches(layers.Layer):\n",
        "    def __init__(self,size):\n",
        "      super(Patches,self).__init__()\n",
        "      self.size = size \n",
        "    \n",
        "    def call(self,img):\n",
        "      batch_size = tf.shape(img)[0]\n",
        "      patches = tf.image.extract_patches(img,[1,self.size,self.size,1],\n",
        "                                         [1,self.size,self.size,1],\n",
        "                                         [1,1,1,1],\n",
        "                                         padding='VALID')\n",
        "      patch_dim = patches.shape[-1]\n",
        "      patches = tf.reshape(patches,[batch_size,-1,patch_dim])\n",
        "      return patches\n",
        "\n",
        "    def plot(self,image,resized_image):\n",
        "      plt.figure(figsize=(4, 4))\n",
        "      \n",
        "      plt.imshow(image.astype(\"uint8\"))\n",
        "      plt.axis(\"off\")\n",
        "      patches = self.call(resized_image)\n",
        "\n",
        "      print(f\"Image size: {image_size} X {image_size}\")\n",
        "      print(f\"Patch size: {patch_size} X {patch_size}\")\n",
        "      print(f\"Patches per image: {patches.shape[1]}\")\n",
        "      print(f\"Elements per patch: {patches.shape[-1]}\")\n",
        "\n",
        "      n = int(np.sqrt(patches.shape[1]))\n",
        "      plt.figure(figsize=(4, 4))\n",
        "      for i, patch in enumerate(patches[0]):\n",
        "          ax = plt.subplot(n, n, i + 1)\n",
        "          patch_img = tf.reshape(patch, (patch_size, patch_size, 3))\n",
        "          plt.imshow(patch_img.numpy().astype(\"uint8\"))\n",
        "          plt.axis(\"off\")\n",
        "\n"
      ],
      "execution_count": 117,
      "outputs": []
    },
    {
      "cell_type": "code",
      "metadata": {
        "colab": {
          "base_uri": "https://localhost:8080/",
          "height": 565
        },
        "id": "KEAmMH9dcJoj",
        "outputId": "c7a1068a-7c1c-4661-8848-6ebe42802c89"
      },
      "source": [
        "#call patch plot\n",
        "image = x_train[np.random.choice(range(x_train.shape[0]))]\n",
        "resized_image = tf.image.resize(\n",
        "          tf.convert_to_tensor([image]), size=(image_size, image_size)\n",
        "      )\n",
        "patch = Patches(patch_size)\n",
        "patch.plot(image,resized_image)"
      ],
      "execution_count": 111,
      "outputs": [
        {
          "output_type": "stream",
          "text": [
            "Image size: 72 X 72\n",
            "Patch size: 6 X 6\n",
            "Patches per image: 144\n",
            "Elements per patch: 108\n"
          ],
          "name": "stdout"
        },
        {
          "output_type": "display_data",
          "data": {
            "image/png": "[encoded data removed]",
            "text/plain": [
              "<Figure size 288x288 with 1 Axes>"
            ]
          },
          "metadata": {
            "tags": [],
            "needs_background": "light"
          }
        },
        {
          "output_type": "display_data",
          "data": {
            "image/png": "[encoded data removed]",
            "text/plain": [
              "<Figure size 288x288 with 144 Axes>"
            ]
          },
          "metadata": {
            "tags": [],
            "needs_background": "light"
          }
        }
      ]
    },
    {
      "cell_type": "code",
      "metadata": {
        "id": "kb2biYPKfTJf"
      },
      "source": [
        "class PatchEncoder(layers.Layer):\n",
        "  def __init__(self,num_patches,projection_dim):\n",
        "    super(PatchEncoder,self).__init__()\n",
        "    self.num_patches = num_patches\n",
        "    self.projection_dim = projection_dim\n",
        "    self.projection = layers.Dense(units=projection_dim)\n",
        "    self.pose_embedding = layers.Embedding(input_dim=num_patches,output_dim=self.projection_dim)\n",
        "\n",
        "  def call(self,patch):\n",
        "    positions = tf.range(0,self.num_patches,1)\n",
        "    encoded = self.projection(patch) + self.pose_embedding(positions)\n",
        "    return encoded"
      ],
      "execution_count": 118,
      "outputs": []
    },
    {
      "cell_type": "code",
      "metadata": {
        "id": "jC2tP-WpiKMy"
      },
      "source": [
        "class TransformerBlock(tf.keras.Model):\n",
        "  def __init__(self,tf_hidden,hidden_units):\n",
        "    super(TransformerBlock,self).__init__()\n",
        "    #norm blocks are only in call\n",
        "    self.tf_hidden = tf_hidden\n",
        "    self.attention = layers.MultiHeadAttention(num_heads=num_heads, key_dim=projection_dim, dropout=0.1)\n",
        "    self.add = layers.Add()\n",
        "    self.norm1 = layers.LayerNormalization(epsilon=1e-6)\n",
        "    self.norm2 = layers.LayerNormalization(epsilon=1e-6)\n",
        "    self.mlp = MLP(hidden_units)\n",
        "\n",
        "\n",
        "  def call(self,encoded_patches):\n",
        "    x1 = self.norm1(encoded_patches)\n",
        "    attention_output = self.attention(x1,x1)\n",
        "    #skip connection 1\n",
        "    x2 = self.add([x1,x1])\n",
        "    x3 = self.norm2(x2)\n",
        "    x3 = self.mlp(x3)\n",
        "    #skip connection 2\n",
        "    encoded_patches = self.add([x3,x2])\n",
        "    return encoded_patches"
      ],
      "execution_count": 119,
      "outputs": []
    },
    {
      "cell_type": "code",
      "metadata": {
        "id": "xY7VfGd2fTYr"
      },
      "source": [
        "def VIT():\n",
        "  inputs = layers.Input(shape=input_shape)\n",
        "  #Augmentation \n",
        "  augmented = data_augmentation(inputs)\n",
        "  #Create the patches \n",
        "  patches = Patches(patch_size)(augmented)\n",
        "  #Encode Patches\n",
        "  encoded_patches = PatchEncoder(num_patches,projection_dim)(patches)\n",
        "  block = TransformerBlock(transformer_units,transformer_units)\n",
        "  mlp = MLP(mlp_head_units)\n",
        "  \n",
        "  for _ in range(transformer_layers):\n",
        "    encoded_patches = block(encoded_patches)\n",
        "  representation = layers.LayerNormalization(epsilon=1e-6)(encoded_patches)\n",
        "  representation = layers.Flatten()(representation)\n",
        "  representation = layers.Dropout(0.5)(representation)\n",
        "\n",
        "  #mlp again \n",
        "  features = mlp(representation)\n",
        "  logits = layers.Dense(num_classes)(features)\n",
        "  model = tf.keras.Model(inputs=inputs,outputs=logits)\n",
        "\n",
        "  return model"
      ],
      "execution_count": 129,
      "outputs": []
    },
    {
      "cell_type": "code",
      "metadata": {
        "id": "N8oK9BDpjsJI"
      },
      "source": [
        "model = VIT()"
      ],
      "execution_count": 130,
      "outputs": []
    },
    {
      "cell_type": "code",
      "metadata": {
        "colab": {
          "base_uri": "https://localhost:8080/"
        },
        "id": "xEFdShPWriNv",
        "outputId": "05e07a0c-f11b-4494-8060-ec6adf49c5d1"
      },
      "source": [
        "model.summary()"
      ],
      "execution_count": 131,
      "outputs": [
        {
          "output_type": "stream",
          "text": [
            "Model: \"model_7\"\n",
            "__________________________________________________________________________________________________\n",
            "Layer (type)                    Output Shape         Param #     Connected to                     \n",
            "==================================================================================================\n",
            "input_38 (InputLayer)           [(None, 32, 32, 3)]  0                                            \n",
            "__________________________________________________________________________________________________\n",
            "data_augmentation (Sequential)  (None, 72, 72, 3)    7           input_38[0][0]                   \n",
            "__________________________________________________________________________________________________\n",
            "patches_44 (Patches)            (None, None, 108)    0           data_augmentation[37][0]         \n",
            "__________________________________________________________________________________________________\n",
            "patch_encoder_37 (PatchEncoder) (None, 144, 64)      16192       patches_44[0][0]                 \n",
            "__________________________________________________________________________________________________\n",
            "transformer_block_32 (Transform (None, 144, 64)      83200       patch_encoder_37[0][0]           \n",
            "                                                                 transformer_block_32[0][0]       \n",
            "                                                                 transformer_block_32[1][0]       \n",
            "                                                                 transformer_block_32[2][0]       \n",
            "                                                                 transformer_block_32[3][0]       \n",
            "                                                                 transformer_block_32[4][0]       \n",
            "                                                                 transformer_block_32[5][0]       \n",
            "                                                                 transformer_block_32[6][0]       \n",
            "__________________________________________________________________________________________________\n",
            "layer_normalization_49 (LayerNo (None, 144, 64)      128         transformer_block_32[7][0]       \n",
            "__________________________________________________________________________________________________\n",
            "flatten_17 (Flatten)            (None, 9216)         0           layer_normalization_49[0][0]     \n",
            "__________________________________________________________________________________________________\n",
            "dropout_59 (Dropout)            (None, 9216)         0           flatten_17[0][0]                 \n",
            "__________________________________________________________________________________________________\n",
            "mlp_15 (MLP)                    (None, 1024)         20974592    dropout_59[0][0]                 \n",
            "__________________________________________________________________________________________________\n",
            "dense_87 (Dense)                (None, 100)          102500      mlp_15[0][0]                     \n",
            "==================================================================================================\n",
            "Total params: 21,176,619\n",
            "Trainable params: 21,176,612\n",
            "Non-trainable params: 7\n",
            "__________________________________________________________________________________________________\n"
          ],
          "name": "stdout"
        }
      ]
    },
    {
      "cell_type": "code",
      "metadata": {
        "colab": {
          "base_uri": "https://localhost:8080/"
        },
        "id": "Ef3HvfAbuIya",
        "outputId": "14c40c9a-e6c5-490e-cb34-b8801988c540"
      },
      "source": [
        "def run_experiment(model):\n",
        "    optimizer = tfad.optimizers.AdamW(\n",
        "        learning_rate=learning_rate, weight_decay=weight_decay\n",
        "    )\n",
        "\n",
        "    model.compile(\n",
        "        optimizer=optimizer,\n",
        "        loss=keras.losses.SparseCategoricalCrossentropy(from_logits=True),\n",
        "        metrics=[\n",
        "            keras.metrics.SparseCategoricalAccuracy(name=\"accuracy\"),\n",
        "            keras.metrics.SparseTopKCategoricalAccuracy(5, name=\"top-5-accuracy\"),\n",
        "        ],\n",
        "    )\n",
        "\n",
        "    checkpoint_filepath = \"/tmp/checkpoint\"\n",
        "    checkpoint_callback = keras.callbacks.ModelCheckpoint(\n",
        "        checkpoint_filepath,\n",
        "        monitor=\"val_accuracy\",\n",
        "        save_best_only=True,\n",
        "        save_weights_only=True,\n",
        "    )\n",
        "\n",
        "    history = model.fit(\n",
        "        x=x_train,\n",
        "        y=y_train,\n",
        "        batch_size=batch_size,\n",
        "        epochs=num_epochs,\n",
        "        validation_split=0.1,\n",
        "        callbacks=[checkpoint_callback]\n",
        "    )\n",
        "\n",
        "    model.load_weights(checkpoint_filepath)\n",
        "    _, accuracy, top_5_accuracy = model.evaluate(x_test, y_test)\n",
        "    print(f\"Test accuracy: {round(accuracy * 100, 2)}%\")\n",
        "    print(f\"Test top 5 accuracy: {round(top_5_accuracy * 100, 2)}%\")\n",
        "\n",
        "    return history\n",
        "\n",
        "\n",
        "vit_classifier = VIT()\n",
        "history = run_experiment(vit_classifier)"
      ],
      "execution_count": null,
      "outputs": [
        {
          "output_type": "stream",
          "text": [
            "Epoch 1/100\n",
            "WARNING:tensorflow:Gradients do not exist for variables ['transformer_block_33/multi_head_attention_33/query/kernel:0', 'transformer_block_33/multi_head_attention_33/query/bias:0', 'transformer_block_33/multi_head_attention_33/key/kernel:0', 'transformer_block_33/multi_head_attention_33/key/bias:0', 'transformer_block_33/multi_head_attention_33/value/kernel:0', 'transformer_block_33/multi_head_attention_33/value/bias:0', 'transformer_block_33/multi_head_attention_33/attention_output/kernel:0', 'transformer_block_33/multi_head_attention_33/attention_output/bias:0'] when minimizing the loss.\n",
            "WARNING:tensorflow:Gradients do not exist for variables ['transformer_block_33/multi_head_attention_33/query/kernel:0', 'transformer_block_33/multi_head_attention_33/query/bias:0', 'transformer_block_33/multi_head_attention_33/key/kernel:0', 'transformer_block_33/multi_head_attention_33/key/bias:0', 'transformer_block_33/multi_head_attention_33/value/kernel:0', 'transformer_block_33/multi_head_attention_33/value/bias:0', 'transformer_block_33/multi_head_attention_33/attention_output/kernel:0', 'transformer_block_33/multi_head_attention_33/attention_output/bias:0'] when minimizing the loss.\n",
            "176/176 [==============================] - 549s 3s/step - loss: 4.8801 - accuracy: 0.0272 - top-5-accuracy: 0.1081 - val_loss: 3.9468 - val_accuracy: 0.0958 - val_top-5-accuracy: 0.2938\n",
            "Epoch 2/100\n",
            " 19/176 [==>...........................] - ETA: 8:51 - loss: 4.1503 - accuracy: 0.0681 - top-5-accuracy: 0.2282"
          ],
          "name": "stdout"
        }
      ]
    },
    {
      "cell_type": "code",
      "metadata": {
        "id": "lx41EEsT2ZLH"
      },
      "source": [
        ""
      ],
      "execution_count": null,
      "outputs": []
    }
  ]
}
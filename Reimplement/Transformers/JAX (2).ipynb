{
  "nbformat": 4,
  "nbformat_minor": 0,
  "metadata": {
    "colab": {
      "name": "JAX.ipynb",
      "provenance": [],
      "collapsed_sections": []
    },
    "kernelspec": {
      "name": "python3",
      "display_name": "Python 3"
    },
    "language_info": {
      "name": "python"
    },
    "widgets": {
      "application/vnd.jupyter.widget-state+json": {
        "a63719d2954548f1a98f06d579423aa4": {
          "model_module": "@jupyter-widgets/controls",
          "model_name": "HBoxModel",
          "state": {
            "_view_name": "HBoxView",
            "_dom_classes": [],
            "_model_name": "HBoxModel",
            "_view_module": "@jupyter-widgets/controls",
            "_model_module_version": "1.5.0",
            "_view_count": null,
            "_view_module_version": "1.5.0",
            "box_style": "",
            "layout": "IPY_MODEL_607c373683c6409aa7dcaf581055daff",
            "_model_module": "@jupyter-widgets/controls",
            "children": [
              "IPY_MODEL_0d65d608c78544daa49bb1b1cbc9bfc8",
              "IPY_MODEL_22641999c2a740799f1e98e849be606a"
            ]
          }
        },
        "607c373683c6409aa7dcaf581055daff": {
          "model_module": "@jupyter-widgets/base",
          "model_name": "LayoutModel",
          "state": {
            "_view_name": "LayoutView",
            "grid_template_rows": null,
            "right": null,
            "justify_content": null,
            "_view_module": "@jupyter-widgets/base",
            "overflow": null,
            "_model_module_version": "1.2.0",
            "_view_count": null,
            "flex_flow": null,
            "width": null,
            "min_width": null,
            "border": null,
            "align_items": null,
            "bottom": null,
            "_model_module": "@jupyter-widgets/base",
            "top": null,
            "grid_column": null,
            "overflow_y": null,
            "overflow_x": null,
            "grid_auto_flow": null,
            "grid_area": null,
            "grid_template_columns": null,
            "flex": null,
            "_model_name": "LayoutModel",
            "justify_items": null,
            "grid_row": null,
            "max_height": null,
            "align_content": null,
            "visibility": null,
            "align_self": null,
            "height": null,
            "min_height": null,
            "padding": null,
            "grid_auto_rows": null,
            "grid_gap": null,
            "max_width": null,
            "order": null,
            "_view_module_version": "1.2.0",
            "grid_template_areas": null,
            "object_position": null,
            "object_fit": null,
            "grid_auto_columns": null,
            "margin": null,
            "display": null,
            "left": null
          }
        },
        "0d65d608c78544daa49bb1b1cbc9bfc8": {
          "model_module": "@jupyter-widgets/controls",
          "model_name": "FloatProgressModel",
          "state": {
            "_view_name": "ProgressView",
            "style": "IPY_MODEL_a24faa10388a4d40b1c84d78fc09b8b9",
            "_dom_classes": [],
            "description": "100%",
            "_model_name": "FloatProgressModel",
            "bar_style": "success",
            "max": 110273258,
            "_view_module": "@jupyter-widgets/controls",
            "_model_module_version": "1.5.0",
            "value": 110273258,
            "_view_count": null,
            "_view_module_version": "1.5.0",
            "orientation": "horizontal",
            "min": 0,
            "description_tooltip": null,
            "_model_module": "@jupyter-widgets/controls",
            "layout": "IPY_MODEL_4041fa2016bf46d4bc6474f39c4e8159"
          }
        },
        "22641999c2a740799f1e98e849be606a": {
          "model_module": "@jupyter-widgets/controls",
          "model_name": "HTMLModel",
          "state": {
            "_view_name": "HTMLView",
            "style": "IPY_MODEL_a7c5875a9f7c408884865976c4711728",
            "_dom_classes": [],
            "description": "",
            "_model_name": "HTMLModel",
            "placeholder": "​",
            "_view_module": "@jupyter-widgets/controls",
            "_model_module_version": "1.5.0",
            "value": " 105M/105M [00:03&lt;00:00, 29.6MB/s]",
            "_view_count": null,
            "_view_module_version": "1.5.0",
            "description_tooltip": null,
            "_model_module": "@jupyter-widgets/controls",
            "layout": "IPY_MODEL_529889224ff14661bde9a56417b9f12a"
          }
        },
        "a24faa10388a4d40b1c84d78fc09b8b9": {
          "model_module": "@jupyter-widgets/controls",
          "model_name": "ProgressStyleModel",
          "state": {
            "_view_name": "StyleView",
            "_model_name": "ProgressStyleModel",
            "description_width": "initial",
            "_view_module": "@jupyter-widgets/base",
            "_model_module_version": "1.5.0",
            "_view_count": null,
            "_view_module_version": "1.2.0",
            "bar_color": null,
            "_model_module": "@jupyter-widgets/controls"
          }
        },
        "4041fa2016bf46d4bc6474f39c4e8159": {
          "model_module": "@jupyter-widgets/base",
          "model_name": "LayoutModel",
          "state": {
            "_view_name": "LayoutView",
            "grid_template_rows": null,
            "right": null,
            "justify_content": null,
            "_view_module": "@jupyter-widgets/base",
            "overflow": null,
            "_model_module_version": "1.2.0",
            "_view_count": null,
            "flex_flow": null,
            "width": null,
            "min_width": null,
            "border": null,
            "align_items": null,
            "bottom": null,
            "_model_module": "@jupyter-widgets/base",
            "top": null,
            "grid_column": null,
            "overflow_y": null,
            "overflow_x": null,
            "grid_auto_flow": null,
            "grid_area": null,
            "grid_template_columns": null,
            "flex": null,
            "_model_name": "LayoutModel",
            "justify_items": null,
            "grid_row": null,
            "max_height": null,
            "align_content": null,
            "visibility": null,
            "align_self": null,
            "height": null,
            "min_height": null,
            "padding": null,
            "grid_auto_rows": null,
            "grid_gap": null,
            "max_width": null,
            "order": null,
            "_view_module_version": "1.2.0",
            "grid_template_areas": null,
            "object_position": null,
            "object_fit": null,
            "grid_auto_columns": null,
            "margin": null,
            "display": null,
            "left": null
          }
        },
        "a7c5875a9f7c408884865976c4711728": {
          "model_module": "@jupyter-widgets/controls",
          "model_name": "DescriptionStyleModel",
          "state": {
            "_view_name": "StyleView",
            "_model_name": "DescriptionStyleModel",
            "description_width": "",
            "_view_module": "@jupyter-widgets/base",
            "_model_module_version": "1.5.0",
            "_view_count": null,
            "_view_module_version": "1.2.0",
            "_model_module": "@jupyter-widgets/controls"
          }
        },
        "529889224ff14661bde9a56417b9f12a": {
          "model_module": "@jupyter-widgets/base",
          "model_name": "LayoutModel",
          "state": {
            "_view_name": "LayoutView",
            "grid_template_rows": null,
            "right": null,
            "justify_content": null,
            "_view_module": "@jupyter-widgets/base",
            "overflow": null,
            "_model_module_version": "1.2.0",
            "_view_count": null,
            "flex_flow": null,
            "width": null,
            "min_width": null,
            "border": null,
            "align_items": null,
            "bottom": null,
            "_model_module": "@jupyter-widgets/base",
            "top": null,
            "grid_column": null,
            "overflow_y": null,
            "overflow_x": null,
            "grid_auto_flow": null,
            "grid_area": null,
            "grid_template_columns": null,
            "flex": null,
            "_model_name": "LayoutModel",
            "justify_items": null,
            "grid_row": null,
            "max_height": null,
            "align_content": null,
            "visibility": null,
            "align_self": null,
            "height": null,
            "min_height": null,
            "padding": null,
            "grid_auto_rows": null,
            "grid_gap": null,
            "max_width": null,
            "order": null,
            "_view_module_version": "1.2.0",
            "grid_template_areas": null,
            "object_position": null,
            "object_fit": null,
            "grid_auto_columns": null,
            "margin": null,
            "display": null,
            "left": null
          }
        }
      }
    },
    "accelerator": "GPU"
  },
  "cells": [
    {
      "cell_type": "code",
      "metadata": {
        "id": "7ROMChL4DpVg"
      },
      "source": [
        "import numpy.random as npr\n",
        "\n",
        "import jax.numpy as jnp\n",
        "from jax import jit, grad, random\n",
        "from jax.experimental import optimizers\n",
        "from jax.experimental import stax\n",
        "from jax.experimental.stax import (AvgPool, BatchNorm, Conv, Dense, FanInSum,\n",
        "                                   FanOut, Flatten, GeneralConv, Identity,\n",
        "                                   MaxPool, Relu, LogSoftmax)\n",
        "import flax.linen as nn\n",
        "from typing import Sequence"
      ],
      "execution_count": null,
      "outputs": []
    },
    {
      "cell_type": "code",
      "metadata": {
        "colab": {
          "base_uri": "https://localhost:8080/"
        },
        "id": "vAQXILi8ULQM",
        "outputId": "b38d8562-8a29-4c18-9ca2-5ef202c27f06"
      },
      "source": [
        "!pip install flax"
      ],
      "execution_count": null,
      "outputs": [
        {
          "output_type": "stream",
          "text": [
            "Collecting flax\n",
            "\u001b[?25l  Downloading https://files.pythonhosted.org/packages/f6/21/21ca1f4831ac24646578d2545c4db9a8369b9da4a4b7dcf067feee312b45/flax-0.3.4-py3-none-any.whl (183kB)\n",
            "\u001b[K     |████████████████████████████████| 184kB 30.2MB/s \n",
            "\u001b[?25hCollecting optax\n",
            "\u001b[?25l  Downloading https://files.pythonhosted.org/packages/07/48/4f65dbb5ec096917ec039ba2c7eccf97ee05a4157e0e965a45ed3b7a13f9/optax-0.0.9-py3-none-any.whl (118kB)\n",
            "\u001b[K     |████████████████████████████████| 122kB 40.6MB/s \n",
            "\u001b[?25hRequirement already satisfied: msgpack in /usr/local/lib/python3.7/dist-packages (from flax) (1.0.2)\n",
            "Requirement already satisfied: numpy>=1.12 in /usr/local/lib/python3.7/dist-packages (from flax) (1.19.5)\n",
            "Requirement already satisfied: jax>=0.2.13 in /usr/local/lib/python3.7/dist-packages (from flax) (0.2.13)\n",
            "Requirement already satisfied: matplotlib in /usr/local/lib/python3.7/dist-packages (from flax) (3.2.2)\n",
            "Collecting chex>=0.0.4\n",
            "\u001b[?25l  Downloading https://files.pythonhosted.org/packages/0f/95/ccd2da57155c019efb3a60e3e5ecb9da431e19ebb16cce1e6981d615d75e/chex-0.0.8-py3-none-any.whl (57kB)\n",
            "\u001b[K     |████████████████████████████████| 61kB 9.0MB/s \n",
            "\u001b[?25hRequirement already satisfied: jaxlib>=0.1.37 in /usr/local/lib/python3.7/dist-packages (from optax->flax) (0.1.66+cuda110)\n",
            "Requirement already satisfied: absl-py>=0.7.1 in /usr/local/lib/python3.7/dist-packages (from optax->flax) (0.12.0)\n",
            "Requirement already satisfied: opt-einsum in /usr/local/lib/python3.7/dist-packages (from jax>=0.2.13->flax) (3.3.0)\n",
            "Requirement already satisfied: pyparsing!=2.0.4,!=2.1.2,!=2.1.6,>=2.0.1 in /usr/local/lib/python3.7/dist-packages (from matplotlib->flax) (2.4.7)\n",
            "Requirement already satisfied: cycler>=0.10 in /usr/local/lib/python3.7/dist-packages (from matplotlib->flax) (0.10.0)\n",
            "Requirement already satisfied: kiwisolver>=1.0.1 in /usr/local/lib/python3.7/dist-packages (from matplotlib->flax) (1.3.1)\n",
            "Requirement already satisfied: python-dateutil>=2.1 in /usr/local/lib/python3.7/dist-packages (from matplotlib->flax) (2.8.1)\n",
            "Requirement already satisfied: dm-tree>=0.1.5 in /usr/local/lib/python3.7/dist-packages (from chex>=0.0.4->optax->flax) (0.1.6)\n",
            "Requirement already satisfied: toolz>=0.9.0 in /usr/local/lib/python3.7/dist-packages (from chex>=0.0.4->optax->flax) (0.11.1)\n",
            "Requirement already satisfied: flatbuffers in /usr/local/lib/python3.7/dist-packages (from jaxlib>=0.1.37->optax->flax) (1.12)\n",
            "Requirement already satisfied: scipy in /usr/local/lib/python3.7/dist-packages (from jaxlib>=0.1.37->optax->flax) (1.4.1)\n",
            "Requirement already satisfied: six in /usr/local/lib/python3.7/dist-packages (from absl-py>=0.7.1->optax->flax) (1.15.0)\n",
            "Installing collected packages: chex, optax, flax\n",
            "Successfully installed chex-0.0.8 flax-0.3.4 optax-0.0.9\n"
          ],
          "name": "stdout"
        }
      ]
    },
    {
      "cell_type": "code",
      "metadata": {
        "colab": {
          "base_uri": "https://localhost:8080/"
        },
        "id": "4QFfLUmWsa5A",
        "outputId": "9233fd04-a1f0-4f2e-eaf4-db2fa8dc3795"
      },
      "source": [
        "!pip install jax-resnet"
      ],
      "execution_count": null,
      "outputs": [
        {
          "output_type": "stream",
          "text": [
            "Collecting jax-resnet\n",
            "  Downloading https://files.pythonhosted.org/packages/21/a2/83de79318b5a933eff9d9661861c7342b151350f5d851da5537aa86fa7d3/jax_resnet-0.0.4-py2.py3-none-any.whl\n",
            "Requirement already satisfied: flax in /usr/local/lib/python3.7/dist-packages (from jax-resnet) (0.3.4)\n",
            "Requirement already satisfied: jaxlib in /usr/local/lib/python3.7/dist-packages (from jax-resnet) (0.1.66+cuda110)\n",
            "Requirement already satisfied: jax in /usr/local/lib/python3.7/dist-packages (from jax-resnet) (0.2.13)\n",
            "Requirement already satisfied: msgpack in /usr/local/lib/python3.7/dist-packages (from flax->jax-resnet) (1.0.2)\n",
            "Requirement already satisfied: numpy>=1.12 in /usr/local/lib/python3.7/dist-packages (from flax->jax-resnet) (1.19.5)\n",
            "Requirement already satisfied: matplotlib in /usr/local/lib/python3.7/dist-packages (from flax->jax-resnet) (3.2.2)\n",
            "Requirement already satisfied: optax in /usr/local/lib/python3.7/dist-packages (from flax->jax-resnet) (0.0.9)\n",
            "Requirement already satisfied: flatbuffers in /usr/local/lib/python3.7/dist-packages (from jaxlib->jax-resnet) (1.12)\n",
            "Requirement already satisfied: scipy in /usr/local/lib/python3.7/dist-packages (from jaxlib->jax-resnet) (1.4.1)\n",
            "Requirement already satisfied: absl-py in /usr/local/lib/python3.7/dist-packages (from jaxlib->jax-resnet) (0.12.0)\n",
            "Requirement already satisfied: opt-einsum in /usr/local/lib/python3.7/dist-packages (from jax->jax-resnet) (3.3.0)\n",
            "Requirement already satisfied: kiwisolver>=1.0.1 in /usr/local/lib/python3.7/dist-packages (from matplotlib->flax->jax-resnet) (1.3.1)\n",
            "Requirement already satisfied: python-dateutil>=2.1 in /usr/local/lib/python3.7/dist-packages (from matplotlib->flax->jax-resnet) (2.8.1)\n",
            "Requirement already satisfied: pyparsing!=2.0.4,!=2.1.2,!=2.1.6,>=2.0.1 in /usr/local/lib/python3.7/dist-packages (from matplotlib->flax->jax-resnet) (2.4.7)\n",
            "Requirement already satisfied: cycler>=0.10 in /usr/local/lib/python3.7/dist-packages (from matplotlib->flax->jax-resnet) (0.10.0)\n",
            "Requirement already satisfied: chex>=0.0.4 in /usr/local/lib/python3.7/dist-packages (from optax->flax->jax-resnet) (0.0.8)\n",
            "Requirement already satisfied: six in /usr/local/lib/python3.7/dist-packages (from absl-py->jaxlib->jax-resnet) (1.15.0)\n",
            "Requirement already satisfied: toolz>=0.9.0 in /usr/local/lib/python3.7/dist-packages (from chex>=0.0.4->optax->flax->jax-resnet) (0.11.1)\n",
            "Requirement already satisfied: dm-tree>=0.1.5 in /usr/local/lib/python3.7/dist-packages (from chex>=0.0.4->optax->flax->jax-resnet) (0.1.6)\n",
            "Installing collected packages: jax-resnet\n",
            "Successfully installed jax-resnet-0.0.4\n"
          ],
          "name": "stdout"
        }
      ]
    },
    {
      "cell_type": "code",
      "metadata": {
        "colab": {
          "base_uri": "https://localhost:8080/",
          "height": 103,
          "referenced_widgets": [
            "a63719d2954548f1a98f06d579423aa4",
            "607c373683c6409aa7dcaf581055daff",
            "0d65d608c78544daa49bb1b1cbc9bfc8",
            "22641999c2a740799f1e98e849be606a",
            "a24faa10388a4d40b1c84d78fc09b8b9",
            "4041fa2016bf46d4bc6474f39c4e8159",
            "a7c5875a9f7c408884865976c4711728",
            "529889224ff14661bde9a56417b9f12a"
          ]
        },
        "id": "xRoHzhdPsjwG",
        "outputId": "656bfa32-5633-4367-e164-bf7ffca4bd91"
      },
      "source": [
        "from jax_resnet import pretrained_resnest\n",
        "ResNeSt50, variables = pretrained_resnest(50)\n",
        "model = ResNeSt50()\n",
        "out = model.apply(variables,\n",
        "                  jnp.ones((32, 224, 224, 3)),  # ImageNet sized inputs.\n",
        "                  mutable=False)  # Ensure `batch_stats` aren't updated."
      ],
      "execution_count": null,
      "outputs": [
        {
          "output_type": "stream",
          "text": [
            "Downloading: \"https://github.com/zhanghang1989/ResNeSt/releases/download/weights_step1/resnest50-528c19ca.pth\" to /root/.cache/torch/hub/checkpoints/resnest50-528c19ca.pth\n"
          ],
          "name": "stderr"
        },
        {
          "output_type": "display_data",
          "data": {
            "application/vnd.jupyter.widget-view+json": {
              "model_id": "a63719d2954548f1a98f06d579423aa4",
              "version_minor": 0,
              "version_major": 2
            },
            "text/plain": [
              "HBox(children=(FloatProgress(value=0.0, max=110273258.0), HTML(value='')))"
            ]
          },
          "metadata": {
            "tags": []
          }
        },
        {
          "output_type": "stream",
          "text": [
            "\n"
          ],
          "name": "stdout"
        }
      ]
    },
    {
      "cell_type": "markdown",
      "metadata": {
        "id": "l3vU3hAuwmsI"
      },
      "source": [
        "## Get the ResNet Backbone by removing the linear layers "
      ]
    },
    {
      "cell_type": "code",
      "metadata": {
        "id": "WpO6zdjItniX"
      },
      "source": [
        "model.layers = model.layers[:-1]\n",
        "out = model.apply(variables,\n",
        "                  jnp.ones((32, 224, 224, 3)),  # ImageNet sized inputs.\n",
        "                  mutable=False)  # Ensure `batch_stats` aren't updated."
      ],
      "execution_count": null,
      "outputs": []
    },
    {
      "cell_type": "markdown",
      "metadata": {
        "id": "mwkgIfz5VKnD"
      },
      "source": [
        ""
      ]
    },
    {
      "cell_type": "code",
      "metadata": {
        "colab": {
          "base_uri": "https://localhost:8080/"
        },
        "id": "snL7Ol1awhIx",
        "outputId": "25913b3b-af16-4ad0-ea5d-101a07d73703"
      },
      "source": [
        "out.shape #channel dimension looks good (2048 in DETR paper)"
      ],
      "execution_count": null,
      "outputs": [
        {
          "output_type": "execute_result",
          "data": {
            "text/plain": [
              "(32, 2048)"
            ]
          },
          "metadata": {
            "tags": []
          },
          "execution_count": 6
        }
      ]
    },
    {
      "cell_type": "markdown",
      "metadata": {
        "id": "TY63iBDZw-jP"
      },
      "source": [
        "## Build the DETR Transformer Encoder/Decoder"
      ]
    },
    {
      "cell_type": "code",
      "metadata": {
        "id": "Sij2w8EUVLjD",
        "colab": {
          "base_uri": "https://localhost:8080/"
        },
        "outputId": "041b4950-18b5-4d21-ae7f-68c0b53f7acc"
      },
      "source": [
        "class MLPHead(nn.Module):\n",
        "  features: Sequence[int]\n",
        "\n",
        "  @nn.compact\n",
        "  def __call__(self, x):\n",
        "    for feat in self.features[:-1]:\n",
        "      x = nn.relu(nn.Dense(feat)(x))\n",
        "    x = nn.Dense(self.features[-1])(x)\n",
        "    return x\n",
        "\n",
        "mlp_head = MLPHead([12, 8, 4])\n",
        "mlp_head"
      ],
      "execution_count": null,
      "outputs": [
        {
          "output_type": "execute_result",
          "data": {
            "text/plain": [
              "MLPHead(\n",
              "    # attributes\n",
              "    features = [12, 8, 4]\n",
              ")"
            ]
          },
          "metadata": {
            "tags": []
          },
          "execution_count": 7
        }
      ]
    },
    {
      "cell_type": "code",
      "metadata": {
        "id": "Ke_hyAB-WtTq",
        "colab": {
          "base_uri": "https://localhost:8080/",
          "height": 130
        },
        "outputId": "1fd777e1-4e5f-4d8e-df74-a0dbe39657f6"
      },
      "source": [
        "class DecoderLayer(nn.Module):\n",
        "  feats: Sequence[int].  #linear layers features \n",
        "  decoder_widths: Sequence[int]\n",
        "  input_shape: Sequence[int]\n",
        "  activation: string\n",
        "  droupout: float \n",
        "  nhead: int \n",
        "  dim_feedforward: int\n",
        "  normalized_before: False\n",
        "  d_model: int\n",
        "\n",
        "  def setup(self):\n",
        "    input_dim = jnp.prod(jnp.asarray(self.input_shape))\n",
        "\n",
        "    self.self_attn = nn.MultiHeadDotProductAttention()\n",
        "    self.multihead_attn = nn.MultiHeadDotProductAttention()\n",
        "\n",
        "    self.dropout = nn.Drouput(rate=dropout)\n",
        "    self.linear1 = nn.Dense(feat[0])\n",
        "    self.dropout1 = nn.Drouput(rate=dropout) \n",
        "    self.norm1 =  nn.LayerNorm()\n",
        "    self.linear2 = nn.Dense(feat[1])\n",
        "    self.dropout2 = nn.Drouput(rate=dropout) \n",
        "    self.norm2 =  nn.LayerNorm()\n",
        "    self.linear3 = nn.Dense(feat[2])\n",
        "    self.dropout3 = nn.Drouput(rate=dropout) \n",
        "    self.norm3 =  nn.LayerNorm()\n",
        "    self.nomalize_before = normalize_before\n",
        "\n",
        "    self.activation \n",
        "\n",
        "  def __call__(self, x):\n",
        "    return self.decode(self.encode(x))\n",
        "\n",
        "  def encode(self, x):\n",
        "    assert x.shape[1:] == self.input_shape\n",
        "    return self.encoder(jnp.reshape(x, (x.shape[0], -1)))\n",
        "\n",
        "  def decode(self, z):\n",
        "    z = self.decoder(z)\n",
        "    x = nn.sigmoid(z)\n",
        "    x = jnp.reshape(x, (x.shape[0],) + self.input_shape)\n",
        "    return x\n",
        "\n",
        "\n"
      ],
      "execution_count": null,
      "outputs": [
        {
          "output_type": "error",
          "ename": "SyntaxError",
          "evalue": "ignored",
          "traceback": [
            "\u001b[0;36m  File \u001b[0;32m\"<ipython-input-1-425958d104da>\"\u001b[0;36m, line \u001b[0;32m2\u001b[0m\n\u001b[0;31m    feats: Sequence[int].  #linear layers features\u001b[0m\n\u001b[0m                                                   ^\u001b[0m\n\u001b[0;31mSyntaxError\u001b[0m\u001b[0;31m:\u001b[0m invalid syntax\n"
          ]
        }
      ]
    },
    {
      "cell_type": "code",
      "metadata": {
        "id": "ykBm_ucXHkun"
      },
      "source": [
        ""
      ],
      "execution_count": null,
      "outputs": []
    }
  ]
}